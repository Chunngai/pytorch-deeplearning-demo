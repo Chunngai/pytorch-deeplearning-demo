{
 "cells": [
  {
   "cell_type": "markdown",
   "id": "9d10b444",
   "metadata": {},
   "source": [
    "# Pytorch Deeplearning Tutorial"
   ]
  },
  {
   "cell_type": "markdown",
   "id": "a42049b8",
   "metadata": {},
   "source": [
    "This turotial introduces a general approach to training deep learning models with PyTorch. It contains the following topics:\n",
    "1. Introduction to PyTorch and Tensor\n",
    "2. Piepline of Training a Deep Learning Model\n",
    "3. Dataset\n",
    "4. Tokenizer\n",
    "5. Vocabulary\n",
    "6. Label Mapping\n",
    "7. Model\n",
    "8. Loss Function\n",
    "9. Optimizer\n",
    "10. Data Loader\n",
    "11. Training, Validation, Testing and Prediction\n",
    "12. Complete Implementation\n",
    "13. What Next"
   ]
  },
  {
   "cell_type": "markdown",
   "id": "cd864e64",
   "metadata": {},
   "source": [
    "## 1. Introduction to PyTorch and Tensor"
   ]
  },
  {
   "cell_type": "markdown",
   "id": "cc4a049b",
   "metadata": {},
   "source": [
    "### 1.1 PyTorch"
   ]
  },
  {
   "cell_type": "markdown",
   "id": "626516b3",
   "metadata": {},
   "source": [
    "Pytorch is an open source machine learning framework for training deep learning models. Other similar frameworks include Tensorflow, Keras and Jax.\n",
    "\n",
    "The download command of the latest PyTorch version can be found on its [homepage](https://pytorch.org/). Several info should be considered.\n",
    "+ PyTorch Build: Some latest PyTorch versions.\n",
    "+ Your OS: Your operating system.\n",
    "+ Package: Download method. Conda and Pip are generally used.\n",
    "+ Language: Python in most cases.\n",
    "+ Compute Platform: GPU (CUDA), CPU or others.\n",
    "\n",
    "After selecting the above info, run the command provided in \"Run this Command\" to download pytorch.  \n",
    "E.g. When we select: Stable(1.12.0) Linux Pip Python CPU, the command will be like:\n",
    "```bash\n",
    "pip3 install torch torchvision torchaudio --extra-index-url https://download.pytorch.org/whl/cpu\n",
    "```\n",
    "\n",
    "Note that `torchvision` and `torchaudio` are task-specific packages for vision (e.g. computer vision) and audio (e.g. audio recognition). For NLP, they are not needed and can be removed, resulting in the following command:\n",
    "```bash\n",
    "pip3 install torch --extra-index-url https://download.pytorch.org/whl/cpu\n",
    "```\n",
    "\n",
    "After downloading `torch`, check if it has been downloaded correctly with the following **Python code**:"
   ]
  },
  {
   "cell_type": "code",
   "execution_count": null,
   "id": "f2eea91c",
   "metadata": {},
   "outputs": [],
   "source": [
    "import torch"
   ]
  },
  {
   "cell_type": "markdown",
   "id": "31c5d7db",
   "metadata": {},
   "source": [
    "If nothing is printed after executing the above line of code, the `torch` package is downloaded successfully.\n",
    "\n",
    "On the website of PyTorch, there are also bunch of [tutorials](https://pytorch.org/tutorials/) for training deep learning models with PyTorch. They include many topics including NLP, CV and so on.\n",
    "And the PyTorch [documentation](https://pytorch.org/docs/stable/index.html) is useful when you need help. Check it out if you are not familiar with certain classes, methods, etc.."
   ]
  },
  {
   "cell_type": "markdown",
   "id": "27e46b1a",
   "metadata": {},
   "source": [
    "### 1.2 `torchtext`"
   ]
  },
  {
   "cell_type": "markdown",
   "id": "6d41bb34",
   "metadata": {},
   "source": [
    "`torchtext`, similar to `torchvision` and `torchaudio`, is a task-specific package for texts. It is useful for NLP tasks. `torchtext` can be downloaded with the following command:\n",
    "```bash\n",
    "pip install torchtext\n",
    "```\n",
    "\n",
    "<!-- Note that the version of `torchtext` should be compatible with `torch`. But don't worry, when downloading `torchtext`, the correct version of `torch` will also be downloaded. -->\n",
    "\n",
    "After downloading `torchtext`, check if it has been downloaded correctly with the following **Python code**:"
   ]
  },
  {
   "cell_type": "code",
   "execution_count": 2,
   "id": "c5e6ef76",
   "metadata": {},
   "outputs": [],
   "source": [
    "import torchtext"
   ]
  },
  {
   "cell_type": "markdown",
   "id": "cd569895",
   "metadata": {},
   "source": [
    "Again, if nothing is printed after executing the above line of code, the `torchtext` package is downloaded successfully."
   ]
  },
  {
   "cell_type": "markdown",
   "id": "e8be33f5",
   "metadata": {},
   "source": [
    "### 1.3 Tensors"
   ]
  },
  {
   "cell_type": "markdown",
   "id": "fe44bc31",
   "metadata": {},
   "source": [
    "Tensors are basic units in PyTorch. A tensor is like a Python **list** or a Numpy **ndarray**. **A tensor is analogous to a matrix in any dimension that supports many deep learning operations (e.g. matrix operations, running on gpu, automatic differentiation, etc.).**"
   ]
  },
  {
   "cell_type": "markdown",
   "id": "7f771723",
   "metadata": {},
   "source": [
    "### 1.3.1 Tensor Creation"
   ]
  },
  {
   "cell_type": "markdown",
   "id": "b96e2392",
   "metadata": {},
   "source": [
    "There are a lot of ways to create a tensor. See the examples below. More examples can be found [here](https://pytorch.org/tutorials/beginner/basics/tensorqs_tutorial.html)."
   ]
  },
  {
   "cell_type": "markdown",
   "id": "1b2d0ecd",
   "metadata": {},
   "source": [
    "#### 1.3.1.1 Creating a Tensor from a Python List"
   ]
  },
  {
   "cell_type": "code",
   "execution_count": 3,
   "id": "a0a9c6ff",
   "metadata": {},
   "outputs": [
    {
     "name": "stdout",
     "output_type": "stream",
     "text": [
      "data:\n",
      "[[1, 2], [3, 4]]\n",
      "\n",
      "tensor:\n",
      "tensor([[1, 2],\n",
      "        [3, 4]])\n",
      "\n"
     ]
    }
   ],
   "source": [
    "data = [\n",
    "    [1, 2],\n",
    "    [3, 4]\n",
    "]\n",
    "tensor = torch.tensor(data)\n",
    "\n",
    "print(f\"data:\\n{data}\\n\")\n",
    "print(f\"tensor:\\n{tensor}\\n\")"
   ]
  },
  {
   "cell_type": "markdown",
   "id": "83224bc5",
   "metadata": {},
   "source": [
    "#### 1.3.1.2 Creating a Tensor from a Numpy ndarray"
   ]
  },
  {
   "cell_type": "code",
   "execution_count": 4,
   "id": "b9c991e1",
   "metadata": {},
   "outputs": [
    {
     "name": "stdout",
     "output_type": "stream",
     "text": [
      "data:\n",
      "[[1, 2], [3, 4]]\n",
      "\n",
      "numpy array:\n",
      "[[1 2]\n",
      " [3 4]]\n",
      "\n",
      "tensor:\n",
      "tensor([[1, 2],\n",
      "        [3, 4]], dtype=torch.int32)\n"
     ]
    }
   ],
   "source": [
    "# Creating a numpy.ndarray.\n",
    "import numpy as np\n",
    "data = [\n",
    "    [1, 2],\n",
    "    [3, 4]\n",
    "]\n",
    "np_array = np.array(data)\n",
    "\n",
    "# numpy.ndarray -> torch.tensor.\n",
    "tensor = torch.from_numpy(np_array)\n",
    "\n",
    "print(f\"data:\\n{data}\\n\")\n",
    "print(f\"numpy array:\\n{np_array}\\n\")\n",
    "print(f\"tensor:\\n{tensor}\")"
   ]
  },
  {
   "cell_type": "markdown",
   "id": "f4bb8ccc",
   "metadata": {},
   "source": [
    "## 1.3.2 Tensor Attributes"
   ]
  },
  {
   "cell_type": "markdown",
   "id": "c64d65e3",
   "metadata": {},
   "source": [
    "Tensor attributes describe their shape, datatype, and the device on which they are stored."
   ]
  },
  {
   "cell_type": "code",
   "execution_count": 5,
   "id": "5ebeea59",
   "metadata": {},
   "outputs": [
    {
     "name": "stdout",
     "output_type": "stream",
     "text": [
      "Shape of the tensor is:\n",
      "torch.Size([3, 2])\n",
      "\n",
      "Datatype of the tensor is:\n",
      "torch.int64\n",
      "\n",
      "Device that the tensor is stored on is:\n",
      "cpu\n",
      "\n"
     ]
    }
   ],
   "source": [
    "# Create a tensor from a python list.\n",
    "data = [\n",
    "    [1, 2],\n",
    "    [3, 4],\n",
    "    [5, 6]\n",
    "]\n",
    "tensor = torch.tensor(data)\n",
    "\n",
    "print(f\"Shape of the tensor is:\\n{tensor.size()}\\n\")\n",
    "print(f\"Datatype of the tensor is:\\n{tensor.dtype}\\n\")\n",
    "print(f\"Device that the tensor is stored on is:\\n{tensor.device}\\n\")"
   ]
  },
  {
   "cell_type": "markdown",
   "id": "40952f64",
   "metadata": {},
   "source": [
    "### 1.3.3 Tensor Operations"
   ]
  },
  {
   "cell_type": "markdown",
   "id": "e5a344bf",
   "metadata": {},
   "source": [
    "Over 100 tensor operations are supported by PyTorch, including arithmetic, linear algebra, matrix manipulation (transposing, indexing, slicing), sampling, etc.. Some tensor operations are presented below. More detailed descriptions can be found [here](https://pytorch.org/docs/stable/torch.html). **Note: you DON'T have to memorize all operations. Search what you need in the documentation or with Google / Baidu**."
   ]
  },
  {
   "cell_type": "markdown",
   "id": "ca26b77e",
   "metadata": {},
   "source": [
    "#### 1.3.3.1 Moving a Tensor from CPU to GPU\n",
    "\n",
    "By default, tensors are created on the CPU. We need to explicitly move tensors to the GPU using `.to()` method (after checking for GPU availability with `torch.cuda.is_available`)."
   ]
  },
  {
   "cell_type": "code",
   "execution_count": 6,
   "id": "6532ecc2",
   "metadata": {},
   "outputs": [
    {
     "name": "stdout",
     "output_type": "stream",
     "text": [
      "False\n",
      "cpu\n"
     ]
    }
   ],
   "source": [
    "print(torch.cuda.is_available())\n",
    "if torch.cuda.is_available():\n",
    "    tensor = tensor.to(\"cuda\")  # Move the tensor to gpu (if gpu is available).\n",
    "print(tensor.device)"
   ]
  },
  {
   "cell_type": "markdown",
   "id": "a7bc3c8e",
   "metadata": {},
   "source": [
    "#### 1.3.3.2 Indexing and Slicing"
   ]
  },
  {
   "cell_type": "code",
   "execution_count": 7,
   "id": "1fec303d",
   "metadata": {},
   "outputs": [
    {
     "name": "stdout",
     "output_type": "stream",
     "text": [
      "tensor:\n",
      "tensor([[1, 2],\n",
      "        [3, 4],\n",
      "        [5, 6]])\n",
      "\n",
      "First row:\n",
      "tensor([1, 2])\n",
      "\n",
      "First column:\n",
      "tensor([1, 3, 5])\n",
      "\n",
      "Last column:\n",
      "tensor([2, 4, 6])\n",
      "\n",
      "After changing value:\n",
      "tensor([[1, 0],\n",
      "        [3, 0],\n",
      "        [5, 0]])\n"
     ]
    }
   ],
   "source": [
    "data = [\n",
    "    [1, 2],\n",
    "    [3, 4],\n",
    "    [5, 6]\n",
    "]\n",
    "tensor = torch.tensor(data)\n",
    "print(f\"tensor:\\n{tensor}\\n\")\n",
    "\n",
    "print(f\"First row:\\n{tensor[0]}\\n\")\n",
    "print(f\"First column:\\n{tensor[:, 0]}\\n\")\n",
    "print(f\"Last column:\\n{tensor[:, -1]}\\n\")\n",
    "\n",
    "tensor[:,1] = 0\n",
    "print(f\"After changing value:\\n{tensor}\")"
   ]
  },
  {
   "cell_type": "markdown",
   "id": "d69e1deb",
   "metadata": {},
   "source": [
    "#### 1.3.3.3 Converting Single-Element Tensors to Python Numerical Values"
   ]
  },
  {
   "cell_type": "markdown",
   "id": "9040a534",
   "metadata": {},
   "source": [
    "If you have a one-element tensor (e.g. `tensor([233])`, you can convert it to a Python numerical value using the `item` method:"
   ]
  },
  {
   "cell_type": "code",
   "execution_count": 8,
   "id": "44eda1a1",
   "metadata": {},
   "outputs": [
    {
     "name": "stdout",
     "output_type": "stream",
     "text": [
      "single element tensor:\n",
      "tensor([233])\n",
      "\n",
      "numerical value:\n",
      "233\n",
      "\n",
      "single element tensor:\n",
      "tensor([[[233]]])\n",
      "\n",
      "numerical value:\n",
      "233\n",
      "\n"
     ]
    }
   ],
   "source": [
    "single_elem_tensor = torch.tensor([233])\n",
    "print(f\"single element tensor:\\n{single_elem_tensor}\\n\")\n",
    "numerical_val = single_elem_tensor.item()\n",
    "print(f\"numerical value:\\n{numerical_val}\\n\")\n",
    "\n",
    "single_elem_tensor = torch.tensor([[[233]]])\n",
    "print(f\"single element tensor:\\n{single_elem_tensor}\\n\")\n",
    "numerical_val = single_elem_tensor.item()\n",
    "print(f\"numerical value:\\n{numerical_val}\\n\")"
   ]
  },
  {
   "cell_type": "markdown",
   "id": "8761911c",
   "metadata": {},
   "source": [
    "#### 1.3.3.4 Arithmetic Operations"
   ]
  },
  {
   "cell_type": "markdown",
   "id": "01e3b4e5",
   "metadata": {},
   "source": [
    "**Matrix multiplication**"
   ]
  },
  {
   "cell_type": "code",
   "execution_count": 9,
   "id": "4cf8e80c",
   "metadata": {},
   "outputs": [
    {
     "name": "stdout",
     "output_type": "stream",
     "text": [
      "tensor:\n",
      "tensor([[1, 2],\n",
      "        [3, 4],\n",
      "        [5, 6]])\n",
      "\n",
      "tensor @ tensor:\n",
      "tensor([[ 5, 11, 17],\n",
      "        [11, 25, 39],\n",
      "        [17, 39, 61]])\n",
      "\n",
      "tensor @ tensor:\n",
      "tensor([[ 5, 11, 17],\n",
      "        [11, 25, 39],\n",
      "        [17, 39, 61]])\n",
      "\n"
     ]
    }
   ],
   "source": [
    "data = [\n",
    "    [1, 2],\n",
    "    [3, 4],\n",
    "    [5, 6]\n",
    "]\n",
    "tensor = torch.tensor(data)\n",
    "print(f\"tensor:\\n{tensor}\\n\")\n",
    "\n",
    "y1 = tensor @ tensor.T\n",
    "print(f\"tensor @ tensor:\\n{y1}\\n\")\n",
    "y2 = tensor.matmul(tensor.T)\n",
    "print(f\"tensor @ tensor:\\n{y2}\\n\")"
   ]
  },
  {
   "cell_type": "markdown",
   "id": "c47b844e",
   "metadata": {},
   "source": [
    "**Element-wise multiplication**"
   ]
  },
  {
   "cell_type": "code",
   "execution_count": 10,
   "id": "45319d17",
   "metadata": {},
   "outputs": [
    {
     "name": "stdout",
     "output_type": "stream",
     "text": [
      "tensor:\n",
      "tensor([[1, 2],\n",
      "        [3, 4],\n",
      "        [5, 6]])\n",
      "\n",
      "tensor * tensor:\n",
      "tensor([[ 1,  4],\n",
      "        [ 9, 16],\n",
      "        [25, 36]])\n",
      "\n",
      "tensor * tensor:\n",
      "tensor([[ 1,  4],\n",
      "        [ 9, 16],\n",
      "        [25, 36]])\n",
      "\n",
      "tensor * 233:\n",
      "tensor([[ 233,  466],\n",
      "        [ 699,  932],\n",
      "        [1165, 1398]])\n",
      "\n"
     ]
    }
   ],
   "source": [
    "data = [\n",
    "    [1, 2],\n",
    "    [3, 4],\n",
    "    [5, 6]\n",
    "]\n",
    "tensor = torch.tensor(data)\n",
    "print(f\"tensor:\\n{tensor}\\n\")\n",
    "\n",
    "z1 = tensor * tensor\n",
    "print(f\"tensor * tensor:\\n{z1}\\n\")\n",
    "z2 = tensor.mul(tensor)\n",
    "print(f\"tensor * tensor:\\n{z2}\\n\")\n",
    "\n",
    "# Element-wise multiplication + broadcasting.\n",
    "z3 = tensor * 233\n",
    "print(f\"tensor * 233:\\n{z3}\\n\")"
   ]
  },
  {
   "cell_type": "markdown",
   "id": "b699f1bf",
   "metadata": {},
   "source": [
    "## 2. Piepline of Training a Deep Learning Model"
   ]
  },
  {
   "cell_type": "markdown",
   "id": "1a3cb101",
   "metadata": {},
   "source": [
    "In this turotial, we will train a deep learning model for **text classification**. It is modified from the AG News classification task.\n",
    "+ [Input] A piece of news.\n",
    "+ [Output] Category of the news (one of Business, Sci/Tech, Sports, World).\n",
    "\n",
    "Data sample:\n",
    "+ [Input] Editors' Picks: What do you think of the iMac's newest design? From the introduction of the first Macintosh computer through to the release of the iPod, Apple Computer has earned a reputation for cutting-edge industrial design. Does the newest iMac live up to that reputation?\n",
    "+ [Output] Sci/Tech"
   ]
  },
  {
   "cell_type": "markdown",
   "id": "d0322aa3",
   "metadata": {},
   "source": [
    "### 2.1 Pipeline"
   ]
  },
  {
   "cell_type": "markdown",
   "id": "76c6dbee",
   "metadata": {},
   "source": [
    "![pipeline](./pipeline.png)"
   ]
  },
  {
   "cell_type": "markdown",
   "id": "4784681d",
   "metadata": {},
   "source": [
    "**Pseudo code** for the pipeline is as follows. Details are omitted for brief demonstration.\n",
    "```python\n",
    "train_dataset = Dataset(path_of_training_data)\n",
    "dev_dataset = Dataset(path_of_dev_data)\n",
    "test_dataset = Dataset(path_of_test_data)\n",
    "\n",
    "tokenizer = Tokenizer()\n",
    "vocab = Vocab()\n",
    "label_mapping = make_label_mapping()\n",
    "\n",
    "model = Model()\n",
    "\n",
    "loss_function = LossFunction()\n",
    "optimizer = Optimizer()\n",
    "\n",
    "train_loader = DataLoader(train_dataset)\n",
    "dev_loader = DataLoader(dev_dataset)\n",
    "test_loader = DataLoader(test_dataset)\n",
    "\n",
    "best_valid_loss = float(\"inf\")\n",
    "best_model = None\n",
    "for i in range(num_epochs):\n",
    "    train(train_loader, tokenizer, vocab, model, loss_function, optimizer, label_mapping)\n",
    "\n",
    "    valid_loss = valid(dev_loader, tokenizer, vocab, model, loss_function, label_mapping)\n",
    "    if valid_loss < best_valid_loss:\n",
    "        best_valid_loss = valid_loss\n",
    "        best_model = copy.deepcopy(model)\n",
    "\n",
    "test(test_loader, tokenizer, vocab, best_model, label_mapping)\n",
    "\n",
    "predict(news_to_predict, tokenizer, vocab, best_model, label_mapping)\n",
    "```"
   ]
  },
  {
   "cell_type": "markdown",
   "id": "9934ec18",
   "metadata": {},
   "source": [
    "### 2.2 Required Components"
   ]
  },
  {
   "cell_type": "markdown",
   "id": "e356c0d6",
   "metadata": {},
   "source": [
    "According to the pipeline above, seven components are required for training a deep learning model for text classification:\n",
    "1. **Dataset**: producing input texts and output labels.\n",
    "2. **Tokenizer**: tokenizing texts.\n",
    "3. **Vocabulary**: converting tokens to integer ids.\n",
    "4. **Label mapping**: converting textual classes to integer ids.\n",
    "5. **Model**\n",
    "6. **Loss function**\n",
    "7. **Optimizer**\n",
    "\n",
    "When training (and validating & testing), the model often receives **a batch** of examples instead of one example. Thus, a data loader is needed for sampling examples from the dataset, constructing batches, and so on.\n",
    "\n",
    "8. **Data loader**: Sampling examples and constructing batches.\n",
    "\n",
    "The following sections will detail how to construct each component."
   ]
  },
  {
   "cell_type": "markdown",
   "id": "ba9ccb60",
   "metadata": {},
   "source": [
    "## 3. Dataset"
   ]
  },
  {
   "cell_type": "markdown",
   "id": "ff13c4e6",
   "metadata": {},
   "source": [
    "### 3.1 Goal of this Section"
   ]
  },
  {
   "cell_type": "markdown",
   "id": "6dcceb80",
   "metadata": {},
   "source": [
    "First, we will create datasets for the training, development and test data. Datasets are created for\n",
    "+ reading data from data files\n",
    "+ storing data\n",
    "+ producing data for training\n",
    "\n",
    "What we will accomplish in this section can be explained by the following pseudo code:\n",
    "```python\n",
    "train_dataset = Dataset(path_of_training_data)\n",
    "dev_dataset = Dataset(path_of_dev_data)\n",
    "test_dataset = Dataset(path_of_test_data)\n",
    "```"
   ]
  },
  {
   "cell_type": "markdown",
   "id": "1ae1d425",
   "metadata": {},
   "source": [
    "### 3.2 Required Methods for Implementing a PyTorch Custom Dataset"
   ]
  },
  {
   "cell_type": "markdown",
   "id": "0df49d65",
   "metadata": {},
   "source": [
    "In PyTorch, a custom dataset corresponds to a Python **class**. The dataset class must implement three methods: \n",
    "+ `__init__`: reading data from data files.\n",
    "+ `__len__`: returning the length, i.e. number of examples, of the dataset.\n",
    "+ `__getitem__`: producing a (input, output) pair, given an index."
   ]
  },
  {
   "cell_type": "markdown",
   "id": "35d7696d",
   "metadata": {},
   "source": [
    "### 3.3 Implementation of the Three Methods"
   ]
  },
  {
   "cell_type": "markdown",
   "id": "c8b777b4",
   "metadata": {},
   "source": [
    "Now let's create a dataset class for the text classification task. As mentioned above, it should contain three methods `__init__`, `__len__` and `__getitem__`."
   ]
  },
  {
   "cell_type": "code",
   "execution_count": 11,
   "id": "1af8901e",
   "metadata": {},
   "outputs": [],
   "source": [
    "from torch.utils.data import Dataset\n",
    "\n",
    "\n",
    "class AGNewsDataset(Dataset):\n",
    "    \"\"\"Dataset for AG News.\n",
    "\n",
    "    :param fp: File path of the data.\n",
    "    \"\"\"\n",
    "\n",
    "    def __init__(self, fp: str):\n",
    "        ...\n",
    "\n",
    "    def __len__(self):\n",
    "        ...\n",
    "\n",
    "    def __getitem__(self, idx: int):\n",
    "        ..."
   ]
  },
  {
   "cell_type": "markdown",
   "id": "9e0efbb2",
   "metadata": {},
   "source": [
    "#### 3.3.1 Implementing `__init__`"
   ]
  },
  {
   "cell_type": "markdown",
   "id": "5ed75675",
   "metadata": {},
   "source": [
    "First, we'll write a method `read` for reading data from the data file. The method receives the path of the data file, from which it reads data from. And it returns a list of texts (model inputs) and a list of labels (model outputs).\n",
    "\n",
    "Specifically, the data files (`train.csv`, `dev.csv` and `test.csv`) used in this turotial are in csv (comma separated values) format. Each line contains news category, news title and news body, separated by commas. Some examples are as follows:\n",
    "+ World,\"Bush, Kerry Tentatively OK Three Debates (AP)\",\"AP - The campaigns of President Bush and Sen. John Kerry tentatively have agreed to a series of three debates that both sides hope will give them momentum in the closing weeks of the presidential election campaign, a person familiar with the debate negotiations said Sunday night.\"\n",
    "+ Sports,Roddick to Lead U.S. Against Belarus (AP),AP - Andy Roddick and the rest of the U.S. Davis Cup team figure it's about time the country reclaimed the championship.\n",
    "+ Sci/Tech,IMPlanet Weekly News Break,\"The free, hosted MSN Spaces service is Microsoft #39;s first consumer foray into providing a blogging platform. Spaces will enable MSN members to maintain a blog and control it with some sophisticated features that are not typical of all blogging services.\"\n",
    "\n",
    "We concatenate the news title and news body as text (model input), and use the news category as label (model output)."
   ]
  },
  {
   "cell_type": "code",
   "execution_count": 12,
   "id": "0221d4fa",
   "metadata": {},
   "outputs": [],
   "source": [
    "import csv\n",
    "from typing import Tuple, List\n",
    "\n",
    "\n",
    "class AGNewsDataset(Dataset):\n",
    "    \"\"\"Dataset for AG News.\n",
    "\n",
    "    :param fp: File path of the data.\n",
    "    \"\"\"\n",
    "\n",
    "    def __init__(self, fp: str):\n",
    "        self.texts, self.labels = self.read(fp)\n",
    "\n",
    "    def __len__(self):\n",
    "        ...\n",
    "\n",
    "    def __getitem__(self, idx: int):\n",
    "        ...\n",
    "    \n",
    "    @classmethod\n",
    "    def read(cls, fp: str) -> Tuple[List[str], List[str]]:\n",
    "        \"\"\"Obtain texts and labels from the data file.\n",
    "\n",
    "        :param fp: File path of the data.\n",
    "        :return: texts and labels.\n",
    "        \"\"\"\n",
    "\n",
    "        texts = []\n",
    "        labels = []\n",
    "        with open(fp, encoding=\"utf-8\") as f:\n",
    "            csv_reader = csv.reader(f)\n",
    "            for line in csv_reader:  # Read each line in the csv file.\n",
    "                label, title, body = line  # Each field in the line is split by the csv reader automatically.\n",
    "\n",
    "                texts.append(f\"{title} {body}\")  # Concatenate the title and the body as text.\n",
    "                labels.append(label)\n",
    "\n",
    "        return texts, labels"
   ]
  },
  {
   "cell_type": "markdown",
   "id": "f3064f04",
   "metadata": {},
   "source": [
    "#### 3.3.2 Implementing `__len__`"
   ]
  },
  {
   "cell_type": "markdown",
   "id": "4fa6ed66",
   "metadata": {},
   "source": [
    "Next, let's implement the `__len__` method. It's generally implemented as the length of the labels."
   ]
  },
  {
   "cell_type": "code",
   "execution_count": 13,
   "id": "49661d28",
   "metadata": {},
   "outputs": [],
   "source": [
    "def __len__(self) -> int:\n",
    "    return len(self.labels)"
   ]
  },
  {
   "cell_type": "markdown",
   "id": "78bb5ef9",
   "metadata": {},
   "source": [
    "#### 3.3.3 Implementing `__getitem__`"
   ]
  },
  {
   "cell_type": "markdown",
   "id": "2e171865",
   "metadata": {},
   "source": [
    "Now there is only one method left: `__getitem__`. This method receives an index and returns a pair (input, output)."
   ]
  },
  {
   "cell_type": "code",
   "execution_count": 14,
   "id": "3d3999c6",
   "metadata": {},
   "outputs": [],
   "source": [
    "def __getitem__(self, idx: int) -> Tuple[str, str]:\n",
    "    text = self.texts[idx]\n",
    "    label = self.labels[idx]\n",
    "\n",
    "    return text, label"
   ]
  },
  {
   "cell_type": "markdown",
   "id": "7ef4096e",
   "metadata": {},
   "source": [
    "### 3.4 Complete Implementation for the Dataset"
   ]
  },
  {
   "cell_type": "markdown",
   "id": "1c2ce1ed",
   "metadata": {},
   "source": [
    "Done! The complete implementation for the dataset is as follows:"
   ]
  },
  {
   "cell_type": "code",
   "execution_count": 15,
   "id": "49edf5b3",
   "metadata": {},
   "outputs": [],
   "source": [
    "class AGNewsDataset(Dataset):\n",
    "    \"\"\"Dataset for AG News.\n",
    "\n",
    "    :param fp: File path of the data.\n",
    "    \"\"\"\n",
    "\n",
    "    def __init__(self, fp: str):\n",
    "        self.texts, self.labels = self.read(fp)\n",
    "\n",
    "    def __len__(self) -> int:\n",
    "        return len(self.labels)\n",
    "\n",
    "    def __getitem__(self, idx: int) -> Tuple[str, str]:\n",
    "        text = self.texts[idx]\n",
    "        label = self.labels[idx]\n",
    "\n",
    "        return text, label\n",
    "\n",
    "    @classmethod\n",
    "    def read(cls, fp: str) -> Tuple[List[str], List[str]]:\n",
    "        \"\"\"Obtain texts and labels from the data file.\n",
    "\n",
    "        :param fp: File path of the data.\n",
    "        :return: texts and labels.\n",
    "        \"\"\"\n",
    "\n",
    "        texts = []\n",
    "        labels = []\n",
    "        with open(fp, encoding=\"utf-8\") as f:\n",
    "            csv_reader = csv.reader(f)\n",
    "            for line in csv_reader:\n",
    "                label, title, body = line\n",
    "\n",
    "                # Concatenate the title and the body as text.\n",
    "                texts.append(f\"{title} {body}\")\n",
    "                labels.append(label)\n",
    "\n",
    "        return texts, labels"
   ]
  },
  {
   "cell_type": "markdown",
   "id": "8e9b267a",
   "metadata": {},
   "source": [
    "Let's check if we've implement correctly."
   ]
  },
  {
   "cell_type": "code",
   "execution_count": 16,
   "id": "aa543e16",
   "metadata": {},
   "outputs": [
    {
     "name": "stdout",
     "output_type": "stream",
     "text": [
      "Model input of the first example in the training data:\n",
      "Bush, Kerry Tentatively OK Three Debates (AP) AP - The campaigns of President Bush and Sen. John Kerry tentatively have agreed to a series of three debates that both sides hope will give them momentum in the closing weeks of the presidential election campaign, a person familiar with the debate negotiations said Sunday night.\n",
      "\n",
      "Model output of the first example in the training data:\n",
      "World\n",
      "\n",
      "Length of the training data:\n",
      "114000\n",
      "\n",
      "Model input of the first example in the training data:\n",
      "Bush, Kerry Tentatively OK Three Debates (AP) AP - The campaigns of President Bush and Sen. John Kerry tentatively have agreed to a series of three debates that both sides hope will give them momentum in the closing weeks of the presidential election campaign, a person familiar with the debate negotiations said Sunday night.\n",
      "\n",
      "Model output of the first example in the training data:\n",
      "World\n",
      "\n"
     ]
    }
   ],
   "source": [
    "train_data = AGNewsDataset(fp=\"../train.csv\")\n",
    "\n",
    "# Check the read method in __init__.\n",
    "print(f\"Model input of the first example in the training data:\\n{train_data.texts[0]}\\n\")\n",
    "print(f\"Model output of the first example in the training data:\\n{train_data.labels[0]}\\n\")\n",
    "\n",
    "# Check the __len__ method.\n",
    "print(f\"Length of the training data:\\n{len(train_data)}\\n\")\n",
    "\n",
    "# Check the __getitem__ method.\n",
    "print(f\"Model input of the first example in the training data:\\n{train_data[0][0]}\\n\")\n",
    "print(f\"Model output of the first example in the training data:\\n{train_data[0][1]}\\n\")"
   ]
  },
  {
   "cell_type": "markdown",
   "id": "aab358e2",
   "metadata": {},
   "source": [
    "### 3.5 Summary: Creating Datasets for Training/Development/Test Data"
   ]
  },
  {
   "cell_type": "markdown",
   "id": "2654d5e2",
   "metadata": {},
   "source": [
    "After the check, let's create datasets for the training data, development data and test data, respectively."
   ]
  },
  {
   "cell_type": "code",
   "execution_count": 17,
   "id": "72c7ee48",
   "metadata": {},
   "outputs": [],
   "source": [
    "train_dataset = AGNewsDataset(fp=\"../train.csv\")\n",
    "dev_dataset = AGNewsDataset(fp=\"../dev.csv\")\n",
    "test_dataset = AGNewsDataset(fp=\"../test.csv\")"
   ]
  },
  {
   "cell_type": "markdown",
   "id": "cbe7191b",
   "metadata": {},
   "source": [
    "## 4. Tokenizer"
   ]
  },
  {
   "cell_type": "markdown",
   "id": "b5ae5ec1",
   "metadata": {},
   "source": [
    "### 4.1 Goal of this Section"
   ]
  },
  {
   "cell_type": "markdown",
   "id": "ec09b8fd",
   "metadata": {},
   "source": [
    "A tokenizer is for splitting text into tokens. Many tokenizers are available, including in `nltk`, `spacy` and so on. Note that some tokenizers will **lowercase** all the tokens when tokenizing, while some will not. Lowercasing tokens can reduce the vocabulary size and the number of embedding parameters, which is beneficial for some tasks.\n",
    "\n",
    "In this section, we create a tokenizer."
   ]
  },
  {
   "cell_type": "markdown",
   "id": "ea14f052",
   "metadata": {},
   "source": [
    "### 4.2 Multiple Ways for Tokenizer Creation"
   ]
  },
  {
   "cell_type": "markdown",
   "id": "692d1a02",
   "metadata": {},
   "source": [
    "Tokenizers can be created in many ways. Following is two ways to construct a tokenizer."
   ]
  },
  {
   "cell_type": "code",
   "execution_count": 18,
   "id": "e20ebcc2",
   "metadata": {},
   "outputs": [
    {
     "name": "stdout",
     "output_type": "stream",
     "text": [
      "Tokenized using torchtext.data.get_tokenizer('basic_english'): ['i', \"'\", 'am', 'learning', 'to', 'train', 'a', 'deeplearning', 'model', '.']\n",
      "Tokenized using nltk.tokenize.word_tokenize: [\"I'am\", 'learning', 'to', 'train', 'a', 'deeplearning', 'model', '.']\n"
     ]
    }
   ],
   "source": [
    "text = \"I'am learning to train a deeplearning model.\"\n",
    "\n",
    "# Creating a tokenizer with torchtext.\n",
    "from torchtext.data import get_tokenizer\n",
    "tokenizer = get_tokenizer('basic_english')\n",
    "tokens = tokenizer(text)\n",
    "print(f\"Tokenized using torchtext.data.get_tokenizer(\\'basic_english\\'): {tokens}\")\n",
    "\n",
    "# Creating a tokenizer with nltk.\n",
    "from nltk.tokenize import word_tokenize\n",
    "tokens = word_tokenize(text)\n",
    "print(f\"Tokenized using nltk.tokenize.word_tokenize: {tokens}\")"
   ]
  },
  {
   "cell_type": "markdown",
   "id": "88caed28",
   "metadata": {},
   "source": [
    "### 4.3 Summary: Creating a Tokenizer"
   ]
  },
  {
   "cell_type": "markdown",
   "id": "9de3b469",
   "metadata": {},
   "source": [
    "In this turotial we construct a tokenizer with `torchtext`. This tokenizer will lowercase all tokens. It's ok for text classification as cases won't affect the category of the texts."
   ]
  },
  {
   "cell_type": "code",
   "execution_count": 19,
   "id": "c98e048a",
   "metadata": {},
   "outputs": [],
   "source": [
    "tokenizer = get_tokenizer('basic_english')"
   ]
  },
  {
   "cell_type": "markdown",
   "id": "f4c5c5e4",
   "metadata": {},
   "source": [
    "## 5. Vocabulary"
   ]
  },
  {
   "cell_type": "markdown",
   "id": "8241fd29",
   "metadata": {},
   "source": [
    "### 5.1 Goal of this Section"
   ]
  },
  {
   "cell_type": "markdown",
   "id": "15f99ff2",
   "metadata": {},
   "source": [
    "A vocabulary stores all the **tokens that the model understands**. It is also responsible for **converting tokens into token ids**. A token id is for obtaining the embedding of the corresponding token. Sometimes we should create a vocabulary by ourselves, while sometimes need not (e.g. when we use pre-trained embeddings, the vocab is determined by the vocab of the pre-training).\n",
    "\n",
    "**Note that in this turotial we don't distinguish words and tokens for simplicity. They are interchangable in this turotial**\n",
    "\n",
    "In this turotial, we create a vocab manually, as the pseudo code below:\n",
    "```python\n",
    "vocab = make_vocab()\n",
    "```"
   ]
  },
  {
   "cell_type": "markdown",
   "id": "c31a1bd9",
   "metadata": {},
   "source": [
    "### 5.2 Three Steps for Creating a Vocab"
   ]
  },
  {
   "cell_type": "markdown",
   "id": "bed45fa6",
   "metadata": {},
   "source": [
    "A vocab can be created in three steps:\n",
    "\n",
    "1. Obtaining all the tokens from the data. In common practice, the vocab is made from the **training data**, as it is for training the model. The development data and the test data are for evaluating the performance of the model, and are not appropriate for vocab construction.\n",
    "2. Making a token:count mapping.\n",
    "3. Making the vocab with (1) the token:count mapping and (2) a `min_freq` threshold. All the tokens with a frequency greater than the threshold will be considered, and all those with a frequency less than the threshold will be discarded. The `min_freq` threshold is useful for reducing vocab size. A smaller vocab size results in a smaller embedding lookup table, requiring less parameters."
   ]
  },
  {
   "cell_type": "markdown",
   "id": "a894990e",
   "metadata": {},
   "source": [
    "### 5.3 Implementation of Each Step"
   ]
  },
  {
   "cell_type": "markdown",
   "id": "976f812f",
   "metadata": {},
   "source": [
    "#### 5.3.1 Obtaining all Tokens"
   ]
  },
  {
   "cell_type": "markdown",
   "id": "e05fee42",
   "metadata": {},
   "source": [
    "Obtaining all the tokens from the training data is quite simple. Previously we have created the training dataset. We can access all texts in the training data with its `texts` attribute. Here's the first ten lines:"
   ]
  },
  {
   "cell_type": "code",
   "execution_count": 20,
   "id": "ee03e2cc",
   "metadata": {},
   "outputs": [
    {
     "data": {
      "text/plain": [
       "['Bush, Kerry Tentatively OK Three Debates (AP) AP - The campaigns of President Bush and Sen. John Kerry tentatively have agreed to a series of three debates that both sides hope will give them momentum in the closing weeks of the presidential election campaign, a person familiar with the debate negotiations said Sunday night.',\n",
       " \"Roddick to Lead U.S. Against Belarus (AP) AP - Andy Roddick and the rest of the U.S. Davis Cup team figure it's about time the country reclaimed the championship.\",\n",
       " 'IMPlanet Weekly News Break The free, hosted MSN Spaces service is Microsoft #39;s first consumer foray into providing a blogging platform. Spaces will enable MSN members to maintain a blog and control it with some sophisticated features that are not typical of all blogging services.',\n",
       " 'U.S., Militants Battle in Central Baghdad (AP) AP - A gunbattle between U.S. forces and militants erupted in central Baghdad on Friday, witnesses said.',\n",
       " 'In the frame OPINIONS were split in the Australian camp over the future of Brett Lee last night following a maverick selection push by captain Ricky Ponting.',\n",
       " \"Pedestrian Ban Reversed A Prince George's County appeals board has voted to overturn a ban on pedestrians on the streets and sidewalks around FedEx Field.\",\n",
       " 'New York sues Saudi Arabia for 9/11 WASHINGTON: New York and New Jersey authorities have said they will join a lawsuit suing Saudi Arabia, Osama bin Laden and other Islamic institutions that allegedly raised money for terrorism.',\n",
       " 'U.S. Marines Train Niger Counter-Terror Force (Reuters) Reuters - U.S. marines have trained an\\\\elite force in the West African country of Niger to root out\\\\and kill al Qaeda-linked militants Washington fears may be\\\\roaming ungoverned swathes of the Sahara desert.',\n",
       " 'Salvation Army donations are down Charles Burnett was ringing a bell in front of the Wal-Mart in Fairmount. It was Burnetts first day, but the Salvation Army has stationed volunteers by red kettles for more than a hundred years.',\n",
       " \"A Rousing Comeback For Home of the Beatles Two decades ago, when this seaport city was mired in a deep and seemingly endless recession, Mike Byrne, a local musician and businessman, sought public funds to help build an exhibition dedicated to Liverpool's most famous native sons, the Beatles.\"]"
      ]
     },
     "execution_count": 20,
     "metadata": {},
     "output_type": "execute_result"
    }
   ],
   "source": [
    "train_dataset.texts[:10]"
   ]
  },
  {
   "cell_type": "markdown",
   "id": "5d61999a",
   "metadata": {},
   "source": [
    "Therefore, it is not hard to obtain all tokens from it:"
   ]
  },
  {
   "cell_type": "code",
   "execution_count": 21,
   "id": "a7f97026",
   "metadata": {},
   "outputs": [
    {
     "name": "stdout",
     "output_type": "stream",
     "text": [
      "['bush', ',', 'kerry', 'tentatively', 'ok', 'three', 'debates', '(', 'ap', ')', 'ap', '-', 'the', 'campaigns', 'of', 'president', 'bush', 'and', 'sen', '.', 'john', 'kerry', 'tentatively', 'have', 'agreed', 'to', 'a', 'series', 'of', 'three', 'debates', 'that', 'both', 'sides', 'hope', 'will', 'give', 'them', 'momentum', 'in', 'the', 'closing', 'weeks', 'of', 'the', 'presidential', 'election', 'campaign', ',', 'a', 'person', 'familiar', 'with', 'the', 'debate', 'negotiations', 'said', 'sunday', 'night', '.', 'roddick', 'to', 'lead', 'u', '.', 's', '.', 'against', 'belarus', '(', 'ap', ')', 'ap', '-', 'andy', 'roddick', 'and', 'the', 'rest', 'of', 'the', 'u', '.', 's', '.', 'davis', 'cup', 'team', 'figure', 'it', \"'\", 's', 'about', 'time', 'the', 'country', 'reclaimed', 'the', 'championship', '.']\n"
     ]
    }
   ],
   "source": [
    "all_tokens = [\n",
    "    token\n",
    "    for text in train_dataset.texts\n",
    "    for token in tokenizer(text)\n",
    "]\n",
    "\n",
    "# Check it by printing the first 100 tokens:\n",
    "print(all_tokens[:100])"
   ]
  },
  {
   "cell_type": "markdown",
   "id": "21d14cdb",
   "metadata": {},
   "source": [
    "#### 5.3.2 Making a Token:Count Mapping"
   ]
  },
  {
   "cell_type": "markdown",
   "id": "e48bb51b",
   "metadata": {},
   "source": [
    "Now let's make the token:count mapping."
   ]
  },
  {
   "cell_type": "code",
   "execution_count": 22,
   "id": "481a25b2",
   "metadata": {},
   "outputs": [],
   "source": [
    "counter = {}\n",
    "for token in all_tokens:\n",
    "    try:\n",
    "        counter[token] += 1\n",
    "    except KeyError:\n",
    "        counter[token] = 1"
   ]
  },
  {
   "cell_type": "markdown",
   "id": "ea668152",
   "metadata": {},
   "source": [
    "An equivalent and more efficient way is as follows."
   ]
  },
  {
   "cell_type": "code",
   "execution_count": 23,
   "id": "d7038844",
   "metadata": {},
   "outputs": [
    {
     "name": "stdout",
     "output_type": "stream",
     "text": [
      "bush: 3403\n",
      ",: 157171\n",
      "kerry: 1335\n",
      "tentatively: 40\n",
      "ok: 246\n",
      "three: 4537\n",
      "debates: 84\n",
      "(: 39039\n",
      "ap: 15264\n",
      "): 38741\n"
     ]
    }
   ],
   "source": [
    "from collections import Counter\n",
    "counter = Counter(all_tokens)\n",
    "\n",
    "# Have a look at the first 10 items:\n",
    "for token, count in list(counter.items())[:10]:\n",
    "    print(f\"{token}: {count}\")"
   ]
  },
  {
   "cell_type": "markdown",
   "id": "153c4429",
   "metadata": {},
   "source": [
    "Let's sort them by frequency. It's not necessay though."
   ]
  },
  {
   "cell_type": "code",
   "execution_count": 24,
   "id": "6caba252",
   "metadata": {},
   "outputs": [
    {
     "name": "stdout",
     "output_type": "stream",
     "text": [
      ".: 214545\n",
      "the: 193701\n",
      ",: 157171\n",
      "to: 113276\n",
      "a: 104552\n",
      "of: 92908\n",
      "in: 90710\n",
      "and: 65455\n",
      "s: 58627\n",
      "on: 53678\n"
     ]
    }
   ],
   "source": [
    "counter = dict(sorted(\n",
    "    counter.items(),\n",
    "    key=lambda x: x[1],\n",
    "    reverse=True\n",
    "))\n",
    "\n",
    "# Have a look at the first 10 items:\n",
    "for token, count in list(counter.items())[:10]:\n",
    "    print(f\"{token}: {count}\")"
   ]
  },
  {
   "cell_type": "markdown",
   "id": "f15ff61b",
   "metadata": {},
   "source": [
    "#### 5.3.3 Creating a Vocab"
   ]
  },
  {
   "cell_type": "markdown",
   "id": "68aac4d9",
   "metadata": {},
   "source": [
    "After making the token:count mapping, we can construct a vocab. The `torchtext` package provides us a convenient function `torchtext.vocab.vocab` for making vocab. Let's first of all learn its usage from [here](https://pytorch.org/text/stable/vocab.html?highlight=vocab#torchtext.vocab.vocab).\n",
    "\n",
    "`torchtext.vocab.vocab` requires four params. Let's focus on the first two:\n",
    "+ `ordered_dict`: Ordered Dictionary mapping tokens to their corresponding occurance frequencies.\n",
    "+ `min_freq`: The minimum frequency needed to include a token in the vocabulary.\n",
    "\n",
    "The first param `ordered_dict` is the token:count mapping we just created. And `min_freq` is the threshold mentioned earlier, let's set it to 5."
   ]
  },
  {
   "cell_type": "code",
   "execution_count": 25,
   "id": "ba3a675f",
   "metadata": {},
   "outputs": [],
   "source": [
    "from torchtext.vocab import vocab as vc\n",
    "min_freq = 5\n",
    "vocab = vc(\n",
    "    ordered_dict=counter,\n",
    "    min_freq=min_freq,\n",
    ")"
   ]
  },
  {
   "cell_type": "markdown",
   "id": "13a958b9",
   "metadata": {},
   "source": [
    "Done! Now let's try to use the vocab to convert tokens to ids."
   ]
  },
  {
   "cell_type": "code",
   "execution_count": 26,
   "id": "ee9ac65d",
   "metadata": {},
   "outputs": [
    {
     "name": "stdout",
     "output_type": "stream",
     "text": [
      "['i', \"'\", 'am', 'learning', 'to', 'train', 'a', 'deeplearning', 'model', '.']\n"
     ]
    },
    {
     "ename": "RuntimeError",
     "evalue": "Token deeplearning not found and default index is not set",
     "output_type": "error",
     "traceback": [
      "\u001b[1;31m---------------------------------------------------------------------------\u001b[0m",
      "\u001b[1;31mRuntimeError\u001b[0m                              Traceback (most recent call last)",
      "Input \u001b[1;32mIn [26]\u001b[0m, in \u001b[0;36m<cell line: 8>\u001b[1;34m()\u001b[0m\n\u001b[0;32m      5\u001b[0m \u001b[38;5;28mprint\u001b[39m(tokens)\n\u001b[0;32m      7\u001b[0m \u001b[38;5;66;03m# Tokens -> token ids\u001b[39;00m\n\u001b[1;32m----> 8\u001b[0m token_ids \u001b[38;5;241m=\u001b[39m \u001b[43mvocab\u001b[49m\u001b[43m(\u001b[49m\u001b[43mtokens\u001b[49m\u001b[43m)\u001b[49m\n\u001b[0;32m      9\u001b[0m \u001b[38;5;28mprint\u001b[39m(token_ids)\n",
      "File \u001b[1;32m~\\AppData\\Local\\Programs\\Python\\Python39\\lib\\site-packages\\torch\\nn\\modules\\module.py:1130\u001b[0m, in \u001b[0;36mModule._call_impl\u001b[1;34m(self, *input, **kwargs)\u001b[0m\n\u001b[0;32m   1126\u001b[0m \u001b[38;5;66;03m# If we don't have any hooks, we want to skip the rest of the logic in\u001b[39;00m\n\u001b[0;32m   1127\u001b[0m \u001b[38;5;66;03m# this function, and just call forward.\u001b[39;00m\n\u001b[0;32m   1128\u001b[0m \u001b[38;5;28;01mif\u001b[39;00m \u001b[38;5;129;01mnot\u001b[39;00m (\u001b[38;5;28mself\u001b[39m\u001b[38;5;241m.\u001b[39m_backward_hooks \u001b[38;5;129;01mor\u001b[39;00m \u001b[38;5;28mself\u001b[39m\u001b[38;5;241m.\u001b[39m_forward_hooks \u001b[38;5;129;01mor\u001b[39;00m \u001b[38;5;28mself\u001b[39m\u001b[38;5;241m.\u001b[39m_forward_pre_hooks \u001b[38;5;129;01mor\u001b[39;00m _global_backward_hooks\n\u001b[0;32m   1129\u001b[0m         \u001b[38;5;129;01mor\u001b[39;00m _global_forward_hooks \u001b[38;5;129;01mor\u001b[39;00m _global_forward_pre_hooks):\n\u001b[1;32m-> 1130\u001b[0m     \u001b[38;5;28;01mreturn\u001b[39;00m forward_call(\u001b[38;5;241m*\u001b[39m\u001b[38;5;28minput\u001b[39m, \u001b[38;5;241m*\u001b[39m\u001b[38;5;241m*\u001b[39mkwargs)\n\u001b[0;32m   1131\u001b[0m \u001b[38;5;66;03m# Do not call functions when jit is used\u001b[39;00m\n\u001b[0;32m   1132\u001b[0m full_backward_hooks, non_full_backward_hooks \u001b[38;5;241m=\u001b[39m [], []\n",
      "File \u001b[1;32m~\\AppData\\Local\\Programs\\Python\\Python39\\lib\\site-packages\\torchtext\\vocab\\vocab.py:35\u001b[0m, in \u001b[0;36mVocab.forward\u001b[1;34m(self, tokens)\u001b[0m\n\u001b[0;32m     25\u001b[0m \u001b[38;5;129m@torch\u001b[39m\u001b[38;5;241m.\u001b[39mjit\u001b[38;5;241m.\u001b[39mexport\n\u001b[0;32m     26\u001b[0m \u001b[38;5;28;01mdef\u001b[39;00m \u001b[38;5;21mforward\u001b[39m(\u001b[38;5;28mself\u001b[39m, tokens: List[\u001b[38;5;28mstr\u001b[39m]) \u001b[38;5;241m-\u001b[39m\u001b[38;5;241m>\u001b[39m List[\u001b[38;5;28mint\u001b[39m]:\n\u001b[0;32m     27\u001b[0m     \u001b[38;5;124mr\u001b[39m\u001b[38;5;124;03m\"\"\"Calls the `lookup_indices` method\u001b[39;00m\n\u001b[0;32m     28\u001b[0m \n\u001b[0;32m     29\u001b[0m \u001b[38;5;124;03m    Args:\u001b[39;00m\n\u001b[1;32m   (...)\u001b[0m\n\u001b[0;32m     33\u001b[0m \u001b[38;5;124;03m        The indices associated with a list of `tokens`.\u001b[39;00m\n\u001b[0;32m     34\u001b[0m \u001b[38;5;124;03m    \"\"\"\u001b[39;00m\n\u001b[1;32m---> 35\u001b[0m     \u001b[38;5;28;01mreturn\u001b[39;00m \u001b[38;5;28;43mself\u001b[39;49m\u001b[38;5;241;43m.\u001b[39;49m\u001b[43mvocab\u001b[49m\u001b[38;5;241;43m.\u001b[39;49m\u001b[43mlookup_indices\u001b[49m\u001b[43m(\u001b[49m\u001b[43mtokens\u001b[49m\u001b[43m)\u001b[49m\n",
      "\u001b[1;31mRuntimeError\u001b[0m: Token deeplearning not found and default index is not set"
     ]
    }
   ],
   "source": [
    "text = \"I'am learning to train a deeplearning model.\"\n",
    "\n",
    "# Tokenize the text.\n",
    "tokens = tokenizer(text)\n",
    "print(tokens)\n",
    "\n",
    "# Tokens -> token ids\n",
    "token_ids = vocab(tokens)\n",
    "print(token_ids)"
   ]
  },
  {
   "cell_type": "markdown",
   "id": "94519bbc",
   "metadata": {},
   "source": [
    "Oops! A runtime error is raised. It says the token \"deeplearning\" is not found and the default index is not set. The reason is that \"deeplearning\" is not in the created `vocab`."
   ]
  },
  {
   "cell_type": "code",
   "execution_count": 27,
   "id": "8917c518",
   "metadata": {},
   "outputs": [
    {
     "ename": "KeyError",
     "evalue": "'deeplearning'",
     "output_type": "error",
     "traceback": [
      "\u001b[1;31m---------------------------------------------------------------------------\u001b[0m",
      "\u001b[1;31mKeyError\u001b[0m                                  Traceback (most recent call last)",
      "Input \u001b[1;32mIn [27]\u001b[0m, in \u001b[0;36m<cell line: 2>\u001b[1;34m()\u001b[0m\n\u001b[0;32m      1\u001b[0m \u001b[38;5;66;03m# Check if \"deeplearning\" is in the vocab.\u001b[39;00m\n\u001b[1;32m----> 2\u001b[0m \u001b[43mvocab\u001b[49m\u001b[38;5;241;43m.\u001b[39;49m\u001b[43mget_stoi\u001b[49m\u001b[43m(\u001b[49m\u001b[43m)\u001b[49m\u001b[43m[\u001b[49m\u001b[38;5;124;43m\"\u001b[39;49m\u001b[38;5;124;43mdeeplearning\u001b[39;49m\u001b[38;5;124;43m\"\u001b[39;49m\u001b[43m]\u001b[49m\n",
      "\u001b[1;31mKeyError\u001b[0m: 'deeplearning'"
     ]
    }
   ],
   "source": [
    "# Check if \"deeplearning\" is in the vocab.\n",
    "vocab.get_stoi()[\"deeplearning\"]"
   ]
  },
  {
   "cell_type": "markdown",
   "id": "f38034a7",
   "metadata": {},
   "source": [
    "In general practice, when creating a vocab, an **out-of-vocabulary (OOV)** token should be represented by a certain symbol, such as `<unk>`. We should also specify an index for the `<unk>` symbol. First, insert the unknown token to the vocab. Second, tell the vocab that `<unk>` is the default symbol, so all OOV tokens will be replaced by the `<unk>` symbol."
   ]
  },
  {
   "cell_type": "code",
   "execution_count": 28,
   "id": "db2a6624",
   "metadata": {},
   "outputs": [],
   "source": [
    "unk_token = \"<unk>\"\n",
    "unk_idx = 0\n",
    "\n",
    "vocab.insert_token(\n",
    "    token=unk_token,\n",
    "    index=unk_idx\n",
    ")\n",
    "vocab.set_default_index(index=unk_idx)"
   ]
  },
  {
   "cell_type": "markdown",
   "id": "ba556743",
   "metadata": {},
   "source": [
    "Now let's run the previous code again."
   ]
  },
  {
   "cell_type": "code",
   "execution_count": 29,
   "id": "4d8770bb",
   "metadata": {},
   "outputs": [
    {
     "name": "stdout",
     "output_type": "stream",
     "text": [
      "['i', \"'\", 'am', 'learning', 'to', 'train', 'a', 'deeplearning', 'model', '.']\n",
      "[275, 16, 1915, 4754, 4, 1933, 5, 0, 2083, 1]\n"
     ]
    }
   ],
   "source": [
    "text = \"I'am learning to train a deeplearning model.\"\n",
    "\n",
    "# Tokenize the text.\n",
    "tokens = tokenizer(text)\n",
    "print(tokens)\n",
    "\n",
    "# Tokens -> token ids\n",
    "token_ids = vocab(tokens)\n",
    "print(token_ids)"
   ]
  },
  {
   "cell_type": "markdown",
   "id": "b772ce85",
   "metadata": {},
   "source": [
    "It works!  The text is first tokenized into tokens by the tokenizer. Then the tokens are converted into token ids by the vocab. The OOV token \"deeplearning\" is treated as `<unk>`, whose token id is 0."
   ]
  },
  {
   "cell_type": "markdown",
   "id": "495f1396",
   "metadata": {},
   "source": [
    "### 5.4 Complete Implementation for Vocab Creation"
   ]
  },
  {
   "cell_type": "markdown",
   "id": "fe125086",
   "metadata": {},
   "source": [
    "Let's wrap the code into a function `make_vocab`."
   ]
  },
  {
   "cell_type": "code",
   "execution_count": 30,
   "id": "00b471d0",
   "metadata": {},
   "outputs": [],
   "source": [
    "from typing import Dict, Callable\n",
    "\n",
    "\n",
    "def make_vocab(\n",
    "        texts: List[str], tokenizer: Callable,\n",
    "        min_freq: int = 1, unk_token: str = \"<unk>\", unk_idx: int = 0,\n",
    ") -> torchtext.vocab.Vocab:\n",
    "    \"\"\"Make a vocabulary from the specified texts.\n",
    "\n",
    "    :param texts: Texts for making vocab.\n",
    "    :param tokenizer: Tokenizer for tokenizing texts.\n",
    "    :param min_freq: Min frequency of the words to be added to the vocab.\n",
    "    :param unk_token: Unknown token.\n",
    "    :param unk_idx: Unknown token index.\n",
    "    :return: Constructed vocab.\n",
    "    \"\"\"\n",
    "\n",
    "    def make_token_count_mapping() -> Dict[str, int]:\n",
    "        \"\"\"Make a mapping {token: count}\"\"\"\n",
    "\n",
    "        all_tokens = [\n",
    "            token\n",
    "            for text in texts\n",
    "            for token in tokenizer(text)\n",
    "        ]\n",
    "\n",
    "        counter = Counter(all_tokens)\n",
    "\n",
    "        return counter\n",
    "\n",
    "    vocab = vc(\n",
    "        ordered_dict=make_token_count_mapping(),\n",
    "        min_freq=min_freq,\n",
    "    )\n",
    "    vocab.insert_token(\n",
    "        token=unk_token,\n",
    "        index=unk_idx\n",
    "    )\n",
    "    vocab.set_default_index(index=unk_idx)\n",
    "\n",
    "    return vocab"
   ]
  },
  {
   "cell_type": "markdown",
   "id": "81ac88dd",
   "metadata": {},
   "source": [
    "### 5.5 Summary: Creating a Vocab"
   ]
  },
  {
   "cell_type": "markdown",
   "id": "18a5b132",
   "metadata": {},
   "source": [
    "Now, we can construct a vocab with the function above."
   ]
  },
  {
   "cell_type": "code",
   "execution_count": 31,
   "id": "5a66b4f1",
   "metadata": {},
   "outputs": [],
   "source": [
    "min_freq = 5\n",
    "vocab = make_vocab(\n",
    "    texts=train_dataset.texts,\n",
    "    tokenizer=tokenizer,\n",
    "    min_freq=min_freq,\n",
    ")"
   ]
  },
  {
   "cell_type": "markdown",
   "id": "b8d531fb",
   "metadata": {},
   "source": [
    "## 6. Label Mapping"
   ]
  },
  {
   "cell_type": "markdown",
   "id": "ea7a6725",
   "metadata": {},
   "source": [
    "### 6.1 Goal of this Section"
   ]
  },
  {
   "cell_type": "markdown",
   "id": "69335118",
   "metadata": {},
   "source": [
    "Textual label classes (Business, Sci/Tech, Sports, World) should be mapped to integer ids for model training. In this section, we create a mapping that maps each texutal class to an integer id."
   ]
  },
  {
   "cell_type": "markdown",
   "id": "d25794fc",
   "metadata": {},
   "source": [
    "### 6.2 Two Steps for Making the Mapping"
   ]
  },
  {
   "cell_type": "markdown",
   "id": "3f089731",
   "metadata": {},
   "source": [
    "Only two steps are needed to create the mapping:\n",
    "1. Obtaining all textual label classes from the **training data** and removing duplicates.\n",
    "2. Making the mapping with the deduplicated label classes."
   ]
  },
  {
   "cell_type": "markdown",
   "id": "4debf9cd",
   "metadata": {},
   "source": [
    "### 6.3 Implementation of the Two Steps"
   ]
  },
  {
   "cell_type": "markdown",
   "id": "6d482977",
   "metadata": {},
   "source": [
    "First, let's obtain all textual labels with the `labels` attribute of the training dataset, followed by deduplication."
   ]
  },
  {
   "cell_type": "code",
   "execution_count": 32,
   "id": "0b902e1d",
   "metadata": {},
   "outputs": [
    {
     "name": "stdout",
     "output_type": "stream",
     "text": [
      "['World', 'Sports', 'Sci/Tech', 'Business']\n"
     ]
    }
   ],
   "source": [
    "classes = list(set(train_dataset.labels))\n",
    "\n",
    "print(classes)"
   ]
  },
  {
   "cell_type": "markdown",
   "id": "66e2de83",
   "metadata": {},
   "source": [
    "Then, we can make the mapping, which is represented by a Python dict."
   ]
  },
  {
   "cell_type": "code",
   "execution_count": 33,
   "id": "3f93d79a",
   "metadata": {},
   "outputs": [
    {
     "name": "stdout",
     "output_type": "stream",
     "text": [
      "{'World': 0, 'Sports': 1, 'Sci/Tech': 2, 'Business': 3}\n"
     ]
    }
   ],
   "source": [
    "class_index_mapping = {\n",
    "    class_: idx\n",
    "    for idx, class_ in enumerate(classes)\n",
    "}\n",
    "\n",
    "print(class_index_mapping)"
   ]
  },
  {
   "cell_type": "markdown",
   "id": "b4a0e19a",
   "metadata": {},
   "source": [
    "With the constructed mapping `class_index_mapping`, we can map texutal labels into label ids."
   ]
  },
  {
   "cell_type": "code",
   "execution_count": 34,
   "id": "4175e505",
   "metadata": {},
   "outputs": [
    {
     "data": {
      "text/plain": [
       "0"
      ]
     },
     "execution_count": 34,
     "metadata": {},
     "output_type": "execute_result"
    }
   ],
   "source": [
    "class_index_mapping[\"World\"]"
   ]
  },
  {
   "cell_type": "markdown",
   "id": "de6350fd",
   "metadata": {},
   "source": [
    "### 6.4 Complete Implementation for Making the Label Mapping"
   ]
  },
  {
   "cell_type": "markdown",
   "id": "51355684",
   "metadata": {},
   "source": [
    "Let's wrap the code into a function `make_class_index_mapping()`."
   ]
  },
  {
   "cell_type": "code",
   "execution_count": 35,
   "id": "d5c79bf8",
   "metadata": {},
   "outputs": [],
   "source": [
    "def make_class_index_mapping(labels: List[str]) -> Dict[str, int]:\n",
    "    \"\"\"Make a mapping that maps the classes to integer indices.\n",
    "\n",
    "    :param labels: Label strings.\n",
    "    :return: Label indices.\n",
    "    \"\"\"\n",
    "\n",
    "    classes = list(set(labels))\n",
    "    class_index_mapping = {\n",
    "        class_: idx\n",
    "        for idx, class_ in enumerate(classes)\n",
    "    }\n",
    "\n",
    "    return class_index_mapping"
   ]
  },
  {
   "cell_type": "markdown",
   "id": "48bcf476",
   "metadata": {},
   "source": [
    "### 6.5 Summary: Creating a Label Mapping"
   ]
  },
  {
   "cell_type": "markdown",
   "id": "1d45ded8",
   "metadata": {},
   "source": [
    "Now, we can make the label mapping with the function above."
   ]
  },
  {
   "cell_type": "code",
   "execution_count": 36,
   "id": "d1c30bcd",
   "metadata": {},
   "outputs": [],
   "source": [
    "class_index_mapping = make_class_index_mapping(labels=train_dataset.labels)"
   ]
  },
  {
   "cell_type": "markdown",
   "id": "3df76f93",
   "metadata": {},
   "source": [
    "## 7. Model"
   ]
  },
  {
   "cell_type": "markdown",
   "id": "c8af41cd",
   "metadata": {},
   "source": [
    "### 7.1 Goal of this Section"
   ]
  },
  {
   "cell_type": "markdown",
   "id": "ad16bf41",
   "metadata": {},
   "source": [
    "This section introduces how to construct a deep learning model."
   ]
  },
  {
   "cell_type": "markdown",
   "id": "763da3da",
   "metadata": {},
   "source": [
    "### 7.2 Required Methods for Implementing a PyTorch Deeplearning Model"
   ]
  },
  {
   "cell_type": "markdown",
   "id": "23779edc",
   "metadata": {},
   "source": [
    "We define our neural network by subclassing `nn.Module` of PyTorch, and initialize the neural network layers in `__init__`. Every `nn.Module` subclass implements the operations on input data in the `forward` method. In other words, two methods are required when creating a deep learning model:\n",
    "+ `__init__`: defining components of the network.\n",
    "+ `forward`: specifying how the inputs are processed by each component."
   ]
  },
  {
   "cell_type": "markdown",
   "id": "d1a210ff",
   "metadata": {},
   "source": [
    "### 7.3 Implementation of the Two Methods"
   ]
  },
  {
   "cell_type": "markdown",
   "id": "06b4800f",
   "metadata": {},
   "source": [
    "Now let's create a model class for the text classification task. In this turotial, we use a single layer RNN as model structure. It contains three layers:\n",
    "1. **Embedding layer** for converting token ids to embeddings. The size of the embedding lookup table is (`vocab_len`, `embed_dim`), where `vocab_len` is the length of the vocab and `embed_dim` is the dimension of the embeddings. In this tutorial, we set `embed_dim` to 50.\n",
    "2. **RNN layer** for extracting textual info. In this tutorial, we set the hidden dimension `hidden_dim` of the RNN layer to 50.\n",
    "3. **Linear layer** for decoding. The input dimension of the linear layer is `hidden_dim` of the RNN layer, and the output dimension equals to the number of news categories `class_num`, which is 4 in this tutorial.\n",
    "\n",
    "Receiving the input (a batch of token ids), the network processes it as follows:\n",
    "1. The embedding layer converts the token ids to embeddings.\n",
    "2. The RNN layer encodes the embeddings sequentially, and outputs the last hidden state.\n",
    "3. The linear layer transforms the hidden state into a four-element vector. Each element in the vector represents the probability of the correcponding class predicted by the model."
   ]
  },
  {
   "cell_type": "markdown",
   "id": "00a77c94",
   "metadata": {},
   "source": [
    "Below is the basic structure of the model."
   ]
  },
  {
   "cell_type": "code",
   "execution_count": 37,
   "id": "aef8ae9d",
   "metadata": {},
   "outputs": [],
   "source": [
    "from torch import nn\n",
    "\n",
    "class RNNTextClassifier(nn.Module):\n",
    "    \"\"\"A text classifier based on RNN.\n",
    "\n",
    "    :param vocab_len: Length of the vocab.\n",
    "    :param class_num: Number of labels.\n",
    "    :param emb_len: Embedding dimension.\n",
    "    :param hid_dim: Dimension of the RNN hidden layers.\n",
    "    \"\"\"\n",
    "\n",
    "    def __init__(self, vocab_len: int, class_num: int, embed_dim: int, hidden_dim: int):\n",
    "        super(RNNTextClassifier, self).__init__()\n",
    "\n",
    "        ...\n",
    "\n",
    "    def forward(self, x: torch.tensor):\n",
    "        ..."
   ]
  },
  {
   "cell_type": "markdown",
   "id": "04e94ebb",
   "metadata": {},
   "source": [
    "#### 7.3.1 Implementing `__init__`"
   ]
  },
  {
   "cell_type": "markdown",
   "id": "f3110f3b",
   "metadata": {},
   "source": [
    "First, let's implement the `__init__` method. The arguments it receives include `vocab_len`, `embed_dim`, `hidden_dim` and `class_num`, as described above. We use [nn.Embedding](https://pytorch.org/docs/stable/generated/torch.nn.Embedding.html?highlight=embedding#torch.nn.Embedding) for creating the lookup table, [nn.RNN](https://pytorch.org/docs/stable/generated/torch.nn.RNN.html?highlight=rnn#torch.nn.RNN) for creating the RNN layer, and [nn.Linear](https://pytorch.org/docs/stable/generated/torch.nn.Linear.html?highlight=linear#torch.nn.Linear) for the linear layer. \n",
    "\n",
    "The construction method of **each neural layer** requires **different sets of arguments**. **Read the documentation** to learn more! For example, for constructing an embedding layer, we use `nn.Embedding`. We should read its [documentation](https://pytorch.org/docs/stable/generated/torch.nn.Embedding.html?highlight=embedding#torch.nn.Embedding) to figure out which argument represents the length of the vocab, and which argument represents the dimension of the embeddings. From the documentation, we see that `num_embeddings` denotes *size of the dictionary of embeddings*, i.e., vocab length, and that `embedding_dim` denotes *the size of each embedding vector*. Therefore, we pass `vocab_len` to the argument `num_embeddings` and pass `embed_dim` to the argument `embedding_dim`. Similarly, for the RNN and the linear layer, we first read their documentation, and then pass values to the corresponding arguments.\n",
    "\n",
    "Note that the `batch_first` argument of `nn.RNN` specifies if the first dimension of the RNN input denotes the batch size. If that's the case, `batch_first` should be set to `True`. And also note that you can control if the first dimension of the RNN input represents the batch size, which can be done in the `collate_fn` to be introduced later (in Section 10.3.5)."
   ]
  },
  {
   "cell_type": "code",
   "execution_count": 38,
   "id": "a22ac54a",
   "metadata": {},
   "outputs": [],
   "source": [
    "def __init__(self, vocab_len: int, class_num: int, embed_dim: int, hidden_dim: int):\n",
    "    super(RNNTextClassifier, self).__init__()\n",
    "\n",
    "    self.embed_dim = embed_dim\n",
    "    self.hidden_dim = hidden_dim\n",
    "\n",
    "    self.embedding = nn.Embedding(\n",
    "        num_embeddings=vocab_len,\n",
    "        embedding_dim=self.embed_dim\n",
    "    )\n",
    "    self.rnn = nn.RNN(\n",
    "        input_size=self.embed_dim,\n",
    "        hidden_size=self.hidden_dim,\n",
    "        batch_first=True\n",
    "    )\n",
    "    self.linear = nn.Linear(\n",
    "        in_features=self.hidden_dim,\n",
    "        out_features=class_num\n",
    "    )"
   ]
  },
  {
   "cell_type": "markdown",
   "id": "0a683aba",
   "metadata": {},
   "source": [
    "#### 7.3.2 Implementing `forward`"
   ]
  },
  {
   "cell_type": "markdown",
   "id": "6a503f88",
   "metadata": {},
   "source": [
    "Now let's implement the `forward` method, which determines how the input `x` should be processed. When implementing the `forward` method, two things should be clear:\n",
    "1. The input and output of each layer.\n",
    "2. The dimension of the inputs and outputs.\n",
    "\n",
    "Again, **search the documentation** to know all we need.\n",
    "\n",
    "Specifically, let's start from the input `x`. Generally it's a tensor of size (batch_size, text_len). (As a reminder, we can use `x.size()` to obtain the size of `x`.)\n",
    "\n",
    "First, `x` is fed into the embedding layer. From the [documentation](https://pytorch.org/docs/stable/generated/torch.nn.Embedding.html?highlight=embedding#torch.nn.Embedding) of `nn.Embedding`, we can learn about the input and output description of the layer from the **Shape** section:\n",
    "+ Input: (∗), IntTensor or LongTensor of arbitrary shape containing the indices to extract\n",
    "+ Output: (∗,H), where * is the input shape and H=`embedding_dim`\n",
    "\n",
    "According to the description, the input `x` with size (batch_size, text_len) will be transformed to (batch_size, text_len, embed_dim). Therefore, the size of `embeddings` is (batch_size, text_len, embed_dim).\n",
    "\n",
    "Then we should focus on the RNN layer. It receives the `embeddings` as input. Read the **Inputs** and **Outputs** sections of the [documentation](https://pytorch.org/docs/stable/generated/torch.nn.RNN.html?highlight=rnn#torch.nn.RNN) for details. For the model used in this tutorial, only the final hidden state is required. The final hidden state corresponds to the second element of the outputs (`last_hidden` in the code), whose size is (1, batch_size, hidden_dim) according to the documentation. The 1 here is the default value for the layer number in the construction method of `nn.RNN`. The first dimension (with the size of 1) in `last_hidden` is redundant, so we remove this dimension with the `squeeze` method, resulting in the dimension of (batch_size, hidden_dim).\n",
    "\n",
    "Similarly, read the [documentation](https://pytorch.org/docs/stable/generated/torch.nn.Linear.html?highlight=linear#torch.nn.Linear) of `nn.Linear` to learn its usage.\n",
    "\n",
    "*More for `last_hidden = last_hidden.squeeze(dim=0)`: the original `last_hidden` is (1, batch_size, hidden_dim). If we pass it directly to the linear layer, we will obtain `y` which is the output of the whole model with the size (1, batch_size, class_num). However, the model output (at least for the task here) requires the size to be (batch_size, class_num). Therefore, we squeeze the dimension of `last_hidden` in advance. In addition, we can squeeze `y` instead of squeezing `last_hidden`, which will produce the same result.*"
   ]
  },
  {
   "cell_type": "code",
   "execution_count": 39,
   "id": "68fd08e3",
   "metadata": {},
   "outputs": [],
   "source": [
    "def forward(self, x: torch.tensor) -> torch.tensor:\n",
    "    # x: (batch_size, text_len)\n",
    "    \n",
    "    embeddings = self.embedding(x)\n",
    "    # embeddings: (batch_size, text_len, embed_dim)\n",
    "    \n",
    "    _, last_hidden = self.rnn(embeddings)\n",
    "    # last_hidden: (1, batch_size, hidden_dim)\n",
    "    last_hidden = last_hidden.squeeze(dim=0)\n",
    "    # last_hidden: (batch_size, hidden_dim)\n",
    "    \n",
    "    y = self.linear(last_hidden)\n",
    "    # y: (batch_size, class_num)\n",
    "\n",
    "    return y"
   ]
  },
  {
   "cell_type": "markdown",
   "id": "7f91ab0f",
   "metadata": {},
   "source": [
    "### 7.4 Complete Implementation for the Model"
   ]
  },
  {
   "cell_type": "markdown",
   "id": "a49d82a5",
   "metadata": {},
   "source": [
    "Let's wrap the code above."
   ]
  },
  {
   "cell_type": "code",
   "execution_count": 40,
   "id": "56b335da",
   "metadata": {},
   "outputs": [],
   "source": [
    "class RNNTextClassifier(nn.Module):\n",
    "    \"\"\"A text classifier based on RNN.\n",
    "\n",
    "    :param vocab_len: Length of the vocab.\n",
    "    :param class_num: Number of labels.\n",
    "    :param embed_dim: Embedding dimension.\n",
    "    :param hidden_dim: Dimension of the RNN hidden layers.\n",
    "    \"\"\"\n",
    "\n",
    "    def __init__(self, vocab_len: int, class_num: int, embed_dim: int, hidden_dim: int):\n",
    "        super(RNNTextClassifier, self).__init__()\n",
    "\n",
    "        self.embed_dim = embed_dim\n",
    "        self.hidden_dim = hidden_dim\n",
    "\n",
    "        self.embedding = nn.Embedding(\n",
    "            num_embeddings=vocab_len,\n",
    "            embedding_dim=self.embed_dim\n",
    "        )\n",
    "        self.rnn = nn.RNN(\n",
    "            input_size=self.embed_dim,\n",
    "            hidden_size=self.hidden_dim,\n",
    "            batch_first=True\n",
    "        )\n",
    "        self.linear = nn.Linear(\n",
    "            in_features=self.hidden_dim,\n",
    "            out_features=class_num\n",
    "        )\n",
    "\n",
    "    def forward(self, x: torch.tensor) -> torch.tensor:\n",
    "        embeddings = self.embedding(x)\n",
    "\n",
    "        _, last_hidden = self.rnn(embeddings)\n",
    "        last_hidden = last_hidden.squeeze(dim=0)\n",
    "\n",
    "        y = self.linear(last_hidden)\n",
    "\n",
    "        return y"
   ]
  },
  {
   "cell_type": "markdown",
   "id": "f5de73eb",
   "metadata": {},
   "source": [
    "### 7.5 Summary: Creating a Model"
   ]
  },
  {
   "cell_type": "markdown",
   "id": "9798bb1e",
   "metadata": {},
   "source": [
    "Now that the model class has been implemented, let's create a model."
   ]
  },
  {
   "cell_type": "code",
   "execution_count": 41,
   "id": "31bbea30",
   "metadata": {},
   "outputs": [],
   "source": [
    "embed_dim = 50\n",
    "hidden_dim = 50\n",
    "model = RNNTextClassifier(\n",
    "    vocab_len=len(vocab),\n",
    "    class_num=len(class_index_mapping),\n",
    "    embed_dim=embed_dim,\n",
    "    hidden_dim=hidden_dim,\n",
    ")"
   ]
  },
  {
   "cell_type": "markdown",
   "id": "4e045621",
   "metadata": {},
   "source": [
    "## 8. Loss Function"
   ]
  },
  {
   "cell_type": "markdown",
   "id": "87840c44",
   "metadata": {},
   "source": [
    "### 8.1 Goal of this Section"
   ]
  },
  {
   "cell_type": "markdown",
   "id": "09589b3d",
   "metadata": {},
   "source": [
    "In this section, we specify a loss function for loss calculation."
   ]
  },
  {
   "cell_type": "markdown",
   "id": "ef80ef2c",
   "metadata": {},
   "source": [
    "### 8.2 Loss Functions Provided by PyTorch"
   ]
  },
  {
   "cell_type": "markdown",
   "id": "aa39529f",
   "metadata": {},
   "source": [
    "A bunch of loss functions are implemented by PyTorch, including [nn.MSELoss](https://pytorch.org/docs/stable/generated/torch.nn.MSELoss.html#torch.nn.MSELoss) (usually for regression), [nn.CrossEntropyLoss](https://pytorch.org/docs/stable/generated/torch.nn.CrossEntropyLoss.html#torch.nn.CrossEntropyLoss) (usually for classification) and so on. See all the loss functions available [here](https://pytorch.org/docs/stable/nn.html#loss-functions)."
   ]
  },
  {
   "cell_type": "markdown",
   "id": "a0613624",
   "metadata": {},
   "source": [
    "### 8.3 Summary: Creating a Loss Function (Criterion)"
   ]
  },
  {
   "cell_type": "markdown",
   "id": "44c16e55",
   "metadata": {},
   "source": [
    "Creating a loss function (criterion) is straight-forward. Nothing more is needed to explain."
   ]
  },
  {
   "cell_type": "code",
   "execution_count": 42,
   "id": "2e979867",
   "metadata": {},
   "outputs": [],
   "source": [
    "criterion = nn.CrossEntropyLoss()"
   ]
  },
  {
   "cell_type": "markdown",
   "id": "568e2970",
   "metadata": {},
   "source": [
    "## 9. Optimizer"
   ]
  },
  {
   "cell_type": "markdown",
   "id": "73b9ddb6",
   "metadata": {},
   "source": [
    "### 9.1 Goal of this Section"
   ]
  },
  {
   "cell_type": "markdown",
   "id": "0bb9aa72",
   "metadata": {},
   "source": [
    "In this section, we specify a optimizer for optimizing model parameters."
   ]
  },
  {
   "cell_type": "markdown",
   "id": "53e0cd64",
   "metadata": {},
   "source": [
    "### 9.2 Optimizers Provided by PyTorch"
   ]
  },
  {
   "cell_type": "markdown",
   "id": "219ed0eb",
   "metadata": {},
   "source": [
    "Similarly, there are many optimizers provided by PyTorch, such as [SGD](https://pytorch.org/docs/stable/generated/torch.optim.SGD.html#torch.optim.SGD), [Adam](https://pytorch.org/docs/stable/generated/torch.optim.Adam.html#torch.optim.Adam), [RMSProp](https://pytorch.org/docs/stable/generated/torch.optim.RMSprop.html#torch.optim.RMSprop) and so on. See all [here](https://pytorch.org/docs/stable/optim.html)."
   ]
  },
  {
   "cell_type": "markdown",
   "id": "dd9494b8",
   "metadata": {},
   "source": [
    "### 9.3 Summary: Creating an Optimizer"
   ]
  },
  {
   "cell_type": "markdown",
   "id": "f1f67ec0",
   "metadata": {},
   "source": [
    "The simplest way to create an optimizer is by specifying the params of the model `model.parameters()` to optimize. Here we use the `Adam` optim, with a learning rate of 1e-3. "
   ]
  },
  {
   "cell_type": "code",
   "execution_count": 43,
   "id": "8838dd12",
   "metadata": {},
   "outputs": [],
   "source": [
    "from torch.optim import Adam\n",
    "\n",
    "lr = 1e-3\n",
    "optimizer = Adam(\n",
    "    params=model.parameters(),\n",
    "    lr=lr,\n",
    ")"
   ]
  },
  {
   "cell_type": "markdown",
   "id": "005bc80e",
   "metadata": {},
   "source": [
    "## 10. Data Loader"
   ]
  },
  {
   "cell_type": "markdown",
   "id": "280283c2",
   "metadata": {},
   "source": [
    "### 10.1 Goal of this Section"
   ]
  },
  {
   "cell_type": "markdown",
   "id": "6b14ec60",
   "metadata": {},
   "source": [
    "Til now, we've prepared many modules for training a deep learning model, including: a dataset class for storing and obtaining data, a tokenizer and a vocab for processing texts, a label mapping for processing labels, a deep learning model, a loss function and an optimizer. We are almost ready for training the model. However, there's one more thing to consider: loading data.\n",
    "\n",
    "When training, the model receives a **batch** of training data instead of a single one. Therefore, there are several things we should take into account:\n",
    "+ How many data are there in a batch? In other word, what is the batch size?\n",
    "+ How to sample data from the dataset to form a batch? Should we randomly choose some or sequentially choose some?\n",
    "+ How do we collate the sampled data (a list of training examples) to form a batch?\n",
    "\n",
    "In this section, we introduce how to construct batches, i.e., how to load data."
   ]
  },
  {
   "cell_type": "markdown",
   "id": "5614b576",
   "metadata": {},
   "source": [
    "### 10.2 Loading Data with `DataLoader`"
   ]
  },
  {
   "cell_type": "markdown",
   "id": "8d2f5836",
   "metadata": {},
   "source": [
    "We can easily specify how the data are to be loaded with the `DataLoader` class of PyTorch. Again, first read the [documentation](https://pytorch.org/docs/stable/data.html#torch.utils.data.DataLoader) to learn its usage. From the documentation, we see that there are a bunch of params that we can configure. For now, let's only focus on four of them: `dataset`, `batch_size`, `shuffle` and `collate_fn`.\n",
    "\n",
    "The `dataset` argument, needless to say, specifies the dataset from which data are to be loaded. When training the model, we should load data from the training set. However, when we validate the model performance during training, we should load data from the dev set. And when we test the trained model after training, we should load data from the test set. Therefore, we must explicitly tell the loader from which dataset it should load data from.\n",
    "\n",
    "The `batch_size` argument specifies the batch size, i.e. how many examples should be loaded each time.\n",
    "\n",
    "The `shuffle` argument specifies whether the data in the dataset should be shuffled before sampling. If it is set to `True`, the data in the sataset will be shuffled before sampling. Besides, the loader will by default use a [RandomSampler](https://pytorch.org/docs/stable/data.html#torch.utils.data.RandomSampler) for loading data. If it is set to `False`, the data in the dataset will not be shuffled before sampling. And the loader will by default use a [SequentialSampler](https://pytorch.org/docs/stable/data.html#torch.utils.data.SequentialSampler) for loading data."
   ]
  },
  {
   "cell_type": "markdown",
   "id": "4bd10d06",
   "metadata": {},
   "source": [
    "### 10.3 the `collate_fn` Argument"
   ]
  },
  {
   "cell_type": "markdown",
   "id": "1653b1f0",
   "metadata": {},
   "source": [
    "Now, there is only one argument left: `collate_fn`. According to the [documentation](https://pytorch.org/docs/stable/data.html#torch.utils.data.DataLoader), it is a `Callable` (function) that *merges a list of samples to form a mini-batch of Tensor(s).* In short, two sets of operations are to be done in the `collate_fn` function:\n",
    "1. Processing the data. For the texts, it includes: tokenization, converting tokens to ids, **padding**. For the labels, it includes: textual classes to ids.\n",
    "2. Converting the texts into a tensor, and converting the labels into another tensor. Wrap the two tensors into a batch.\n",
    "\n",
    "It should look like:"
   ]
  },
  {
   "cell_type": "code",
   "execution_count": 44,
   "id": "a5a430b7-b56d-4eb5-9266-d11253e40a0c",
   "metadata": {},
   "outputs": [],
   "source": [
    "def collate_func(samples, **kwargs):\n",
    "    \"\"\"Collate function for training / validation / testing.\n",
    "\n",
    "    :param samples: A list of (text, label).\n",
    "    :param kwargs: Other needed arguments.\n",
    "    :return: Collated batch.\n",
    "    \"\"\"\n",
    "    \n",
    "    ..."
   ]
  },
  {
   "cell_type": "markdown",
   "id": "69ad3c6b",
   "metadata": {},
   "source": [
    "#### 10.3.1 Input of `collate_fn`"
   ]
  },
  {
   "cell_type": "markdown",
   "id": "7ad6cda0",
   "metadata": {},
   "source": [
    "To make everything intuitive, let's first see what the input of the `collate_fn` looks like (assume that the batch size is 8):"
   ]
  },
  {
   "cell_type": "code",
   "execution_count": 45,
   "id": "22c4a505-236a-49b9-82d7-f94e4e7596e5",
   "metadata": {},
   "outputs": [
    {
     "data": {
      "text/plain": [
       "[('PeopleSoft accepts latest Oracle offer Oracle Corp. #39;s 18-month struggle to gain control of PeopleSoft Inc. drew to a close this morning when PeopleSoft #39;s board agreed to a new \\\\$10.3 billion takeover offer.',\n",
       "  'Business'),\n",
       " ('The wife, a stranger, the bully and a bullet Marlene Brookes is a shirt-presser, a quiet, conscientious woman who has looked after Bay Street #39;s demanding clients for more than eight years.',\n",
       "  'World'),\n",
       " ('44 believed North Koreans clamber over fence into Canadian Embassy BEIJING (CP) - China said Thursday it wants the Canadian Embassy to hand over 44 people thought to be North Korean asylum-seekers who climbed over a spiked fence onto embassy grounds.',\n",
       "  'World'),\n",
       " (\"Carter to Miss Two Games to Fight Lawsuit (AP) AP - Vince Carter will miss the Toronto Raptors' next two preseason games while he fights a lawsuit from a former agent.\",\n",
       "  'Sports'),\n",
       " ('More attackers targeting e-commerce and Web apps, says Symantec The total number of virus attacks are down, but malicious codemeisters are getting faster, more sophisticated, and they #39;re beginning to target e-commerce concerns and small businesses.',\n",
       "  'Sci/Tech'),\n",
       " (\"UK's EMI Says to Face Music Industry Probe in U.S.  LONDON/NEW YORK (Reuters) - EMI Group PLC, the world's  third-largest music company, on Friday said it and other music  companies faced a New York probe into how music companies  influence what songs are played on the radio.\",\n",
       "  'Business'),\n",
       " ('D-Backs get Glaus PHOENIX The Arizona Diamondbacks have worked out a four-year deal with third baseman Troy Glaus. The 2002 World Series MVP hit just .251 with 18 homers and 42 RBI #39;s in 58 games this year, missing much of the season due to shoulder surgery.',\n",
       "  'Sports'),\n",
       " ('Karzai declared winner of Afghan election KABUL, Afghanistan -- Hamid Karzai was officially declared Afghanistan #39;s first-ever popularly elected president today after a weeks-long fraud probe found no reason to overturn his landslide victory.',\n",
       "  'World')]"
      ]
     },
     "execution_count": 45,
     "metadata": {},
     "output_type": "execute_result"
    }
   ],
   "source": [
    "[  \n",
    "    ('PeopleSoft accepts latest Oracle offer Oracle Corp. #39;s 18-month struggle to gain control of PeopleSoft Inc. drew to a close this morning when PeopleSoft #39;s board agreed to a new \\\\$10.3 billion takeover offer.', 'Business'),  \n",
    "    ('The wife, a stranger, the bully and a bullet Marlene Brookes is a shirt-presser, a quiet, conscientious woman who has looked after Bay Street #39;s demanding clients for more than eight years.', 'World'),  \n",
    "    ('44 believed North Koreans clamber over fence into Canadian Embassy BEIJING (CP) - China said Thursday it wants the Canadian Embassy to hand over 44 people thought to be North Korean asylum-seekers who climbed over a spiked fence onto embassy grounds.', 'World'),  \n",
    "    (\"Carter to Miss Two Games to Fight Lawsuit (AP) AP - Vince Carter will miss the Toronto Raptors' next two preseason games while he fights a lawsuit from a former agent.\", 'Sports'),   \n",
    "    ('More attackers targeting e-commerce and Web apps, says Symantec The total number of virus attacks are down, but malicious codemeisters are getting faster, more sophisticated, and they #39;re beginning to target e-commerce concerns and small businesses.', 'Sci/Tech'),   \n",
    "    (\"UK's EMI Says to Face Music Industry Probe in U.S.  LONDON/NEW YORK (Reuters) - EMI Group PLC, the world's  third-largest music company, on Friday said it and other music  companies faced a New York probe into how music companies  influence what songs are played on the radio.\", 'Business'),   \n",
    "    ('D-Backs get Glaus PHOENIX The Arizona Diamondbacks have worked out a four-year deal with third baseman Troy Glaus. The 2002 World Series MVP hit just .251 with 18 homers and 42 RBI #39;s in 58 games this year, missing much of the season due to shoulder surgery.', 'Sports'),   \n",
    "    ('Karzai declared winner of Afghan election KABUL, Afghanistan -- Hamid Karzai was officially declared Afghanistan #39;s first-ever popularly elected president today after a weeks-long fraud probe found no reason to overturn his landslide victory.', 'World')  \n",
    "]"
   ]
  },
  {
   "cell_type": "markdown",
   "id": "9e1f659e",
   "metadata": {},
   "source": [
    "We see that the input is a list, each element of the list is a tuple of (text, label).\n",
    "\n",
    "Here's how the input is generated: First the data loader samples `batch_size` samples from the `dataset`. if `shuffle` is specified to `True`, the data are sampled randomly with the `RandomSampler`, and if `shuffle` is specified to `False`, the data are sampled sequentially with the `SequentialSampler`.\n",
    "\n",
    "When sampling data from the dataset, the `__getitem__` method of the `dataset` will ba called. As a reminder, the following code is the `__getitem__` method we implemented earlier. This method returns a tuple of (text, label), which is exactly the form of elements in the list shown."
   ]
  },
  {
   "cell_type": "code",
   "execution_count": 46,
   "id": "bf4ec6c9",
   "metadata": {},
   "outputs": [],
   "source": [
    "def __getitem__(self, idx: int) -> Tuple[str, str]:\n",
    "    text = self.texts[idx]\n",
    "    label = self.labels[idx]\n",
    "\n",
    "    return text, label"
   ]
  },
  {
   "cell_type": "markdown",
   "id": "4c50e113",
   "metadata": {},
   "source": [
    "Our task now is to make a batch. It contains several steps, as described in the following sections. To make everything clear, let's assume that the samples are:"
   ]
  },
  {
   "cell_type": "code",
   "execution_count": 47,
   "id": "6f23a7d9",
   "metadata": {},
   "outputs": [],
   "source": [
    "samples = [  \n",
    "    ('PeopleSoft accepts latest Oracle offer Oracle Corp. #39;s 18-month struggle to gain control of PeopleSoft Inc. drew to a close this morning when PeopleSoft #39;s board agreed to a new \\\\$10.3 billion takeover offer.', 'Business'),  \n",
    "    ('The wife, a stranger, the bully and a bullet Marlene Brookes is a shirt-presser, a quiet, conscientious woman who has looked after Bay Street #39;s demanding clients for more than eight years.', 'World'),  \n",
    "    ('44 believed North Koreans clamber over fence into Canadian Embassy BEIJING (CP) - China said Thursday it wants the Canadian Embassy to hand over 44 people thought to be North Korean asylum-seekers who climbed over a spiked fence onto embassy grounds.', 'World'),  \n",
    "    (\"Carter to Miss Two Games to Fight Lawsuit (AP) AP - Vince Carter will miss the Toronto Raptors' next two preseason games while he fights a lawsuit from a former agent.\", 'Sports'),   \n",
    "    ('More attackers targeting e-commerce and Web apps, says Symantec The total number of virus attacks are down, but malicious codemeisters are getting faster, more sophisticated, and they #39;re beginning to target e-commerce concerns and small businesses.', 'Sci/Tech'),   \n",
    "    (\"UK's EMI Says to Face Music Industry Probe in U.S.  LONDON/NEW YORK (Reuters) - EMI Group PLC, the world's  third-largest music company, on Friday said it and other music  companies faced a New York probe into how music companies  influence what songs are played on the radio.\", 'Business'),   \n",
    "    ('D-Backs get Glaus PHOENIX The Arizona Diamondbacks have worked out a four-year deal with third baseman Troy Glaus. The 2002 World Series MVP hit just .251 with 18 homers and 42 RBI #39;s in 58 games this year, missing much of the season due to shoulder surgery.', 'Sports'),   \n",
    "    ('Karzai declared winner of Afghan election KABUL, Afghanistan -- Hamid Karzai was officially declared Afghanistan #39;s first-ever popularly elected president today after a weeks-long fraud probe found no reason to overturn his landslide victory.', 'World')  \n",
    "]"
   ]
  },
  {
   "cell_type": "markdown",
   "id": "a7987acd",
   "metadata": {},
   "source": [
    "#### 10.3.2 Obtain Texts and Labels"
   ]
  },
  {
   "cell_type": "markdown",
   "id": "7172cf66",
   "metadata": {},
   "source": [
    "First, we should put all texts into a list, and all labels into another. Code:"
   ]
  },
  {
   "cell_type": "code",
   "execution_count": 48,
   "id": "f7673be6",
   "metadata": {},
   "outputs": [
    {
     "name": "stdout",
     "output_type": "stream",
     "text": [
      "texts:\n",
      "('PeopleSoft accepts latest Oracle offer Oracle Corp. #39;s 18-month struggle to gain control of PeopleSoft Inc. drew to a close this morning when PeopleSoft #39;s board agreed to a new \\\\$10.3 billion takeover offer.', 'The wife, a stranger, the bully and a bullet Marlene Brookes is a shirt-presser, a quiet, conscientious woman who has looked after Bay Street #39;s demanding clients for more than eight years.', '44 believed North Koreans clamber over fence into Canadian Embassy BEIJING (CP) - China said Thursday it wants the Canadian Embassy to hand over 44 people thought to be North Korean asylum-seekers who climbed over a spiked fence onto embassy grounds.', \"Carter to Miss Two Games to Fight Lawsuit (AP) AP - Vince Carter will miss the Toronto Raptors' next two preseason games while he fights a lawsuit from a former agent.\", 'More attackers targeting e-commerce and Web apps, says Symantec The total number of virus attacks are down, but malicious codemeisters are getting faster, more sophisticated, and they #39;re beginning to target e-commerce concerns and small businesses.', \"UK's EMI Says to Face Music Industry Probe in U.S.  LONDON/NEW YORK (Reuters) - EMI Group PLC, the world's  third-largest music company, on Friday said it and other music  companies faced a New York probe into how music companies  influence what songs are played on the radio.\", 'D-Backs get Glaus PHOENIX The Arizona Diamondbacks have worked out a four-year deal with third baseman Troy Glaus. The 2002 World Series MVP hit just .251 with 18 homers and 42 RBI #39;s in 58 games this year, missing much of the season due to shoulder surgery.', 'Karzai declared winner of Afghan election KABUL, Afghanistan -- Hamid Karzai was officially declared Afghanistan #39;s first-ever popularly elected president today after a weeks-long fraud probe found no reason to overturn his landslide victory.')\n",
      "\n",
      "labels:\n",
      "('Business', 'World', 'World', 'Sports', 'Sci/Tech', 'Business', 'Sports', 'World')\n",
      "\n"
     ]
    }
   ],
   "source": [
    "texts, labels = list(zip(*samples))\n",
    "\n",
    "# Check.\n",
    "print(f\"texts:\\n{texts}\\n\")\n",
    "print(f\"labels:\\n{labels}\\n\")"
   ]
  },
  {
   "cell_type": "markdown",
   "id": "210b6665",
   "metadata": {},
   "source": [
    "#### 10.3.3 Process the Texts"
   ]
  },
  {
   "cell_type": "markdown",
   "id": "97d924e1",
   "metadata": {},
   "source": [
    "Then, we should convert each text into token ids with the tokenizer and vocab we constructed earlier."
   ]
  },
  {
   "cell_type": "code",
   "execution_count": 49,
   "id": "758b7c9c",
   "metadata": {},
   "outputs": [
    {
     "name": "stdout",
     "output_type": "stream",
     "text": [
      "[[555, 8867, 717, 568, 597, 568, 827, 18, 76, 50, 9931, 9295, 22, 3035, 88, 14, 555, 853, 18, 9656, 22, 23, 1508, 212, 1079, 211, 555, 76, 50, 134, 21, 22, 23, 143, 8961, 18, 329, 1578, 1580, 597, 18], [12, 4462, 2, 23, 10897, 2, 12, 24820, 16, 23, 17970, 26593, 0, 74, 23, 0, 2, 23, 5729, 2, 0, 2290, 337, 135, 2205, 321, 2628, 1963, 76, 50, 2897, 6932, 148, 200, 201, 420, 203, 18], [2322, 7109, 261, 19493, 0, 114, 6716, 80, 1927, 5344, 444, 8, 1286, 10, 11, 1271, 44, 506, 59, 2335, 12, 1927, 5344, 22, 4906, 114, 2322, 267, 2228, 22, 348, 261, 1020, 19972, 337, 7780, 114, 23, 19974, 6716, 3148, 5344, 12718, 18], [6046, 22, 8718, 208, 249, 22, 3165, 155, 8, 9, 10, 9, 11, 10300, 6046, 29, 8718, 12, 1285, 10297, 60, 278, 208, 8314, 249, 2218, 980, 12319, 23, 155, 389, 23, 803, 6637, 18], [200, 5253, 10545, 1915, 16, 1726, 7064, 2, 1496, 7635, 12, 2138, 1159, 14, 2297, 2994, 92, 186, 2, 195, 4272, 0, 92, 2682, 2732, 2, 200, 90, 2, 16, 153, 76, 764, 2184, 22, 1863, 1915, 1500, 16, 3388, 322, 18], [2519, 60, 50, 21245, 1496, 22, 1530, 482, 376, 4519, 33, 49, 18, 50, 18, 9659, 144, 8, 171, 10, 11, 21245, 526, 1581, 2, 12, 403, 60, 50, 3569, 482, 292, 2, 105, 106, 44, 59, 16, 160, 482, 704, 6467, 23, 143, 144, 4519, 80, 1427, 482, 704, 4599, 346, 7544, 92, 2118, 105, 12, 3273, 18], [12879, 1558, 21044, 1887, 12, 7873, 8391, 20, 2501, 245, 23, 8471, 301, 41, 628, 12413, 6950, 21044, 18, 12, 7574, 403, 24, 11547, 1003, 1954, 18, 16289, 41, 942, 3597, 16, 857, 8987, 76, 50, 33, 18380, 249, 212, 328, 2, 2058, 2113, 14, 12, 305, 3776, 22, 2206, 1043, 18], [5153, 6799, 1149, 14, 3067, 37, 333, 2, 3077, 836, 5206, 5153, 189, 2182, 6799, 3077, 76, 50, 9977, 11620, 5657, 15, 618, 321, 23, 0, 497, 4519, 2449, 651, 1435, 22, 137, 264, 7628, 692, 18]]\n"
     ]
    }
   ],
   "source": [
    "texts = list(map(\n",
    "    lambda text: vocab(tokenizer(text)),\n",
    "    texts\n",
    "))\n",
    "\n",
    "# Check.\n",
    "print(texts)"
   ]
  },
  {
   "cell_type": "markdown",
   "id": "e7af8966",
   "metadata": {},
   "source": [
    "Done! Now let's convert them into a tensor."
   ]
  },
  {
   "cell_type": "code",
   "execution_count": 50,
   "id": "3ec2a5d8",
   "metadata": {},
   "outputs": [
    {
     "ename": "ValueError",
     "evalue": "expected sequence of length 41 at dim 1 (got 38)",
     "output_type": "error",
     "traceback": [
      "\u001b[1;31m---------------------------------------------------------------------------\u001b[0m",
      "\u001b[1;31mValueError\u001b[0m                                Traceback (most recent call last)",
      "Input \u001b[1;32mIn [50]\u001b[0m, in \u001b[0;36m<cell line: 1>\u001b[1;34m()\u001b[0m\n\u001b[1;32m----> 1\u001b[0m texts \u001b[38;5;241m=\u001b[39m \u001b[43mtorch\u001b[49m\u001b[38;5;241;43m.\u001b[39;49m\u001b[43mtensor\u001b[49m\u001b[43m(\u001b[49m\u001b[43mtexts\u001b[49m\u001b[43m)\u001b[49m\n",
      "\u001b[1;31mValueError\u001b[0m: expected sequence of length 41 at dim 1 (got 38)"
     ]
    }
   ],
   "source": [
    "texts = torch.tensor(texts)"
   ]
  },
  {
   "cell_type": "markdown",
   "id": "85165209",
   "metadata": {},
   "source": [
    "Oops! Something went wrong.\n",
    "\n",
    "The reason is that the elements in `texts` have inconsistent lengths. Let's see."
   ]
  },
  {
   "cell_type": "code",
   "execution_count": 51,
   "id": "a9f876f5",
   "metadata": {},
   "outputs": [
    {
     "name": "stdout",
     "output_type": "stream",
     "text": [
      "41\n",
      "38\n",
      "44\n",
      "35\n",
      "42\n",
      "59\n",
      "52\n",
      "37\n"
     ]
    }
   ],
   "source": [
    "for token_ids in texts:\n",
    "    print(len(token_ids))"
   ]
  },
  {
   "cell_type": "markdown",
   "id": "9197f458",
   "metadata": {},
   "source": [
    "However, to convert `texts` into a tensor, each text should has the same length. Therefore, we should handle the length problem by **padding**. A natural way for padding is to pad each text into the max text length in the samples."
   ]
  },
  {
   "cell_type": "code",
   "execution_count": 52,
   "id": "be086af5",
   "metadata": {},
   "outputs": [
    {
     "name": "stdout",
     "output_type": "stream",
     "text": [
      "max len: 59\n",
      "[[555, 8867, 717, 568, 597, 568, 827, 18, 76, 50, 9931, 9295, 22, 3035, 88, 14, 555, 853, 18, 9656, 22, 23, 1508, 212, 1079, 211, 555, 76, 50, 134, 21, 22, 23, 143, 8961, 18, 329, 1578, 1580, 597, 18, 0, 0, 0, 0, 0, 0, 0, 0, 0, 0, 0, 0, 0, 0, 0, 0, 0, 0], [12, 4462, 2, 23, 10897, 2, 12, 24820, 16, 23, 17970, 26593, 0, 74, 23, 0, 2, 23, 5729, 2, 0, 2290, 337, 135, 2205, 321, 2628, 1963, 76, 50, 2897, 6932, 148, 200, 201, 420, 203, 18, 0, 0, 0, 0, 0, 0, 0, 0, 0, 0, 0, 0, 0, 0, 0, 0, 0, 0, 0, 0, 0], [2322, 7109, 261, 19493, 0, 114, 6716, 80, 1927, 5344, 444, 8, 1286, 10, 11, 1271, 44, 506, 59, 2335, 12, 1927, 5344, 22, 4906, 114, 2322, 267, 2228, 22, 348, 261, 1020, 19972, 337, 7780, 114, 23, 19974, 6716, 3148, 5344, 12718, 18, 0, 0, 0, 0, 0, 0, 0, 0, 0, 0, 0, 0, 0, 0, 0], [6046, 22, 8718, 208, 249, 22, 3165, 155, 8, 9, 10, 9, 11, 10300, 6046, 29, 8718, 12, 1285, 10297, 60, 278, 208, 8314, 249, 2218, 980, 12319, 23, 155, 389, 23, 803, 6637, 18, 0, 0, 0, 0, 0, 0, 0, 0, 0, 0, 0, 0, 0, 0, 0, 0, 0, 0, 0, 0, 0, 0, 0, 0], [200, 5253, 10545, 1915, 16, 1726, 7064, 2, 1496, 7635, 12, 2138, 1159, 14, 2297, 2994, 92, 186, 2, 195, 4272, 0, 92, 2682, 2732, 2, 200, 90, 2, 16, 153, 76, 764, 2184, 22, 1863, 1915, 1500, 16, 3388, 322, 18, 0, 0, 0, 0, 0, 0, 0, 0, 0, 0, 0, 0, 0, 0, 0, 0, 0], [2519, 60, 50, 21245, 1496, 22, 1530, 482, 376, 4519, 33, 49, 18, 50, 18, 9659, 144, 8, 171, 10, 11, 21245, 526, 1581, 2, 12, 403, 60, 50, 3569, 482, 292, 2, 105, 106, 44, 59, 16, 160, 482, 704, 6467, 23, 143, 144, 4519, 80, 1427, 482, 704, 4599, 346, 7544, 92, 2118, 105, 12, 3273, 18], [12879, 1558, 21044, 1887, 12, 7873, 8391, 20, 2501, 245, 23, 8471, 301, 41, 628, 12413, 6950, 21044, 18, 12, 7574, 403, 24, 11547, 1003, 1954, 18, 16289, 41, 942, 3597, 16, 857, 8987, 76, 50, 33, 18380, 249, 212, 328, 2, 2058, 2113, 14, 12, 305, 3776, 22, 2206, 1043, 18, 0, 0, 0, 0, 0, 0, 0], [5153, 6799, 1149, 14, 3067, 37, 333, 2, 3077, 836, 5206, 5153, 189, 2182, 6799, 3077, 76, 50, 9977, 11620, 5657, 15, 618, 321, 23, 0, 497, 4519, 2449, 651, 1435, 22, 137, 264, 7628, 692, 18, 0, 0, 0, 0, 0, 0, 0, 0, 0, 0, 0, 0, 0, 0, 0, 0, 0, 0, 0, 0, 0, 0]]\n",
      "59\n",
      "59\n",
      "59\n",
      "59\n",
      "59\n",
      "59\n",
      "59\n",
      "59\n"
     ]
    }
   ],
   "source": [
    "# Find the max text length.\n",
    "max_len = 0\n",
    "for token_ids in texts:\n",
    "    max_len = max(len(token_ids), max_len)\n",
    "print(f\"max len: {max_len}\")\n",
    "\n",
    "# Padding:\n",
    "default_pad_val = 0\n",
    "texts = list(map(\n",
    "    lambda token_ids: token_ids + ([default_pad_val] * (max_len - len(token_ids))),\n",
    "    texts\n",
    "))\n",
    "# Check.\n",
    "print(texts)\n",
    "for token_ids in texts:\n",
    "    print(len(token_ids))"
   ]
  },
  {
   "cell_type": "markdown",
   "id": "09741f58",
   "metadata": {},
   "source": [
    "A better way for padding is to pad each text into a `max_len`, instead of the max text length in the samples. The reason is that sometimes the max text length in the samples is very large, so other texts in the samples will be padded to this very large max text length. However, if the text length is too long, the RNN may fail to capture long distance textual info. Let's modify the code above by padding to a `max_len` instead of the max text length in the samples.\n",
    "\n",
    "Note that in this case, some texts in the samples will have lengths exceeding the specified `max_len`, which should be **truncated** instead of padded."
   ]
  },
  {
   "cell_type": "code",
   "execution_count": 53,
   "id": "5d1759c6",
   "metadata": {},
   "outputs": [
    {
     "name": "stdout",
     "output_type": "stream",
     "text": [
      "[[555, 8867, 717, 568, 597, 568, 827, 18, 76, 50, 9931, 9295, 22, 3035, 88, 14, 555, 853, 18, 9656, 22, 23, 1508, 212, 1079], [12, 4462, 2, 23, 10897, 2, 12, 24820, 16, 23, 17970, 26593, 0, 74, 23, 0, 2, 23, 5729, 2, 0, 2290, 337, 135, 2205], [2322, 7109, 261, 19493, 0, 114, 6716, 80, 1927, 5344, 444, 8, 1286, 10, 11, 1271, 44, 506, 59, 2335, 12, 1927, 5344, 22, 4906], [6046, 22, 8718, 208, 249, 22, 3165, 155, 8, 9, 10, 9, 11, 10300, 6046, 29, 8718, 12, 1285, 10297, 60, 278, 208, 8314, 249], [200, 5253, 10545, 1915, 16, 1726, 7064, 2, 1496, 7635, 12, 2138, 1159, 14, 2297, 2994, 92, 186, 2, 195, 4272, 0, 92, 2682, 2732], [2519, 60, 50, 21245, 1496, 22, 1530, 482, 376, 4519, 33, 49, 18, 50, 18, 9659, 144, 8, 171, 10, 11, 21245, 526, 1581, 2], [12879, 1558, 21044, 1887, 12, 7873, 8391, 20, 2501, 245, 23, 8471, 301, 41, 628, 12413, 6950, 21044, 18, 12, 7574, 403, 24, 11547, 1003], [5153, 6799, 1149, 14, 3067, 37, 333, 2, 3077, 836, 5206, 5153, 189, 2182, 6799, 3077, 76, 50, 9977, 11620, 5657, 15, 618, 321, 23]]\n",
      "25\n",
      "25\n",
      "25\n",
      "25\n",
      "25\n",
      "25\n",
      "25\n",
      "25\n"
     ]
    }
   ],
   "source": [
    "max_len = 25\n",
    "\n",
    "# Padding:\n",
    "default_pad_val = 0\n",
    "texts = list(map(\n",
    "    lambda token_ids: (\n",
    "        token_ids + ([default_pad_val] * (max_len - len(token_ids)))  # Less than max_len: padding.\n",
    "        if len(token_ids) < max_len  \n",
    "        else token_ids[:max_len]  # Greater than max_len: truncation.\n",
    "    ),\n",
    "    texts\n",
    "))\n",
    "# Check.\n",
    "print(texts)\n",
    "for token_ids in texts:\n",
    "    print(len(token_ids))"
   ]
  },
  {
   "cell_type": "markdown",
   "id": "220b8a71",
   "metadata": {},
   "source": [
    "After padding, let's convert `texts` into a tensor."
   ]
  },
  {
   "cell_type": "code",
   "execution_count": 54,
   "id": "37b23f6f",
   "metadata": {},
   "outputs": [
    {
     "data": {
      "text/plain": [
       "tensor([[  555,  8867,   717,   568,   597,   568,   827,    18,    76,    50,\n",
       "          9931,  9295,    22,  3035,    88,    14,   555,   853,    18,  9656,\n",
       "            22,    23,  1508,   212,  1079],\n",
       "        [   12,  4462,     2,    23, 10897,     2,    12, 24820,    16,    23,\n",
       "         17970, 26593,     0,    74,    23,     0,     2,    23,  5729,     2,\n",
       "             0,  2290,   337,   135,  2205],\n",
       "        [ 2322,  7109,   261, 19493,     0,   114,  6716,    80,  1927,  5344,\n",
       "           444,     8,  1286,    10,    11,  1271,    44,   506,    59,  2335,\n",
       "            12,  1927,  5344,    22,  4906],\n",
       "        [ 6046,    22,  8718,   208,   249,    22,  3165,   155,     8,     9,\n",
       "            10,     9,    11, 10300,  6046,    29,  8718,    12,  1285, 10297,\n",
       "            60,   278,   208,  8314,   249],\n",
       "        [  200,  5253, 10545,  1915,    16,  1726,  7064,     2,  1496,  7635,\n",
       "            12,  2138,  1159,    14,  2297,  2994,    92,   186,     2,   195,\n",
       "          4272,     0,    92,  2682,  2732],\n",
       "        [ 2519,    60,    50, 21245,  1496,    22,  1530,   482,   376,  4519,\n",
       "            33,    49,    18,    50,    18,  9659,   144,     8,   171,    10,\n",
       "            11, 21245,   526,  1581,     2],\n",
       "        [12879,  1558, 21044,  1887,    12,  7873,  8391,    20,  2501,   245,\n",
       "            23,  8471,   301,    41,   628, 12413,  6950, 21044,    18,    12,\n",
       "          7574,   403,    24, 11547,  1003],\n",
       "        [ 5153,  6799,  1149,    14,  3067,    37,   333,     2,  3077,   836,\n",
       "          5206,  5153,   189,  2182,  6799,  3077,    76,    50,  9977, 11620,\n",
       "          5657,    15,   618,   321,    23]])"
      ]
     },
     "execution_count": 54,
     "metadata": {},
     "output_type": "execute_result"
    }
   ],
   "source": [
    "texts = torch.tensor(texts)\n",
    "\n",
    "# Check.\n",
    "texts"
   ]
  },
  {
   "cell_type": "markdown",
   "id": "600a833d",
   "metadata": {},
   "source": [
    "Since all texts in the samples have lengths greater than the `max_len` (25), they are truncated instead of padded."
   ]
  },
  {
   "cell_type": "markdown",
   "id": "77f14d10",
   "metadata": {},
   "source": [
    "#### 10.3.4 Process the Labels"
   ]
  },
  {
   "cell_type": "markdown",
   "id": "5f1121b0",
   "metadata": {},
   "source": [
    "The labels should be (1) mapped from textual classes to ids and (2) converted into a tensor."
   ]
  },
  {
   "cell_type": "code",
   "execution_count": 55,
   "id": "45987d04",
   "metadata": {},
   "outputs": [
    {
     "name": "stdout",
     "output_type": "stream",
     "text": [
      "tensor([3, 0, 0, 1, 2, 3, 1, 0])\n"
     ]
    }
   ],
   "source": [
    "labels = torch.tensor(list(map(\n",
    "    lambda label: class_index_mapping[label],\n",
    "    labels\n",
    ")))\n",
    "\n",
    "# Check.\n",
    "print(labels)"
   ]
  },
  {
   "cell_type": "markdown",
   "id": "c3faff08",
   "metadata": {},
   "source": [
    "#### 10.3.5 Make a Batch"
   ]
  },
  {
   "cell_type": "markdown",
   "id": "754aaad5",
   "metadata": {},
   "source": [
    "Very simple. Just wrap the `texts` and `labels` into a Python dict."
   ]
  },
  {
   "cell_type": "code",
   "execution_count": 56,
   "id": "60c5554e",
   "metadata": {},
   "outputs": [],
   "source": [
    "batch = {\n",
    "    \"texts\": texts,\n",
    "    \"labels\": labels,\n",
    "}"
   ]
  },
  {
   "cell_type": "markdown",
   "id": "64a08bc8-d76c-4f49-980e-86592934c3eb",
   "metadata": {},
   "source": [
    "Note that the first dimension of `texts` and `labels` here represents the batch size, so in the `__init__` method of the model (in Section 7.3.2), you should specify `batch_first` in `nn.RNN` to `True`. To make it clear, let's print their sizes."
   ]
  },
  {
   "cell_type": "code",
   "execution_count": 57,
   "id": "8d509c62-fbb6-42d4-84fe-6dd54e0865f8",
   "metadata": {},
   "outputs": [
    {
     "name": "stdout",
     "output_type": "stream",
     "text": [
      "torch.Size([8, 25])\n",
      "torch.Size([8])\n"
     ]
    }
   ],
   "source": [
    "print(batch[\"texts\"].size())\n",
    "print(batch[\"labels\"].size())"
   ]
  },
  {
   "cell_type": "markdown",
   "id": "c529a9c9",
   "metadata": {},
   "source": [
    "### 10.4 Complete Implementation for `collate_fn`"
   ]
  },
  {
   "cell_type": "code",
   "execution_count": 58,
   "id": "1e22b61d",
   "metadata": {},
   "outputs": [],
   "source": [
    "def pad(token_indices: List[int], max_len: int, default_pad_val: int = 0) -> List[int]:\n",
    "    \"\"\"Pad the given token indices.\n",
    "\n",
    "    :param token_indices: Indices of the tokens.\n",
    "    :param max_len: Max sentence length.\n",
    "    :param default_pad_val: Default padding value.\n",
    "    :return: Padded indices.\n",
    "    \"\"\"\n",
    "\n",
    "    if len(token_indices) < max_len:\n",
    "        return token_indices + ([default_pad_val] * (max_len - len(token_indices)))\n",
    "    else:\n",
    "        return token_indices[:max_len]\n",
    "\n",
    "    \n",
    "def collate_func(\n",
    "        samples: List[Tuple[str, str]],\n",
    "        vocab: torchtext.vocab.Vocab, tokenizer: Callable, max_len: int,\n",
    "        class_index_mapping: Dict[str, int]\n",
    ") -> Dict[str, torch.tensor]:\n",
    "    \"\"\"Collate function for training / validation / testing.\n",
    "\n",
    "    :param samples: A list of (text, label).\n",
    "    :param vocab: Vocabulary.\n",
    "    :param tokenizer: Tokenizer.\n",
    "    :param max_len: Max len of the sentences.\n",
    "    :param class_index_mapping: Mapping from label string to label index.\n",
    "    :return: Collated batch.\n",
    "    \"\"\"\n",
    "\n",
    "    texts, labels = list(zip(*samples))\n",
    "\n",
    "    texts = torch.tensor(list(map(\n",
    "        lambda text: pad(\n",
    "            vocab(tokenizer(text)),\n",
    "            max_len=max_len\n",
    "        ),\n",
    "        texts\n",
    "    )))\n",
    "\n",
    "    labels = torch.tensor(list(map(\n",
    "        lambda label: class_index_mapping[label],\n",
    "        labels\n",
    "    )))\n",
    "\n",
    "    return {\n",
    "        \"texts\": texts,\n",
    "        \"labels\": labels,\n",
    "    }"
   ]
  },
  {
   "cell_type": "markdown",
   "id": "c82d9a87",
   "metadata": {},
   "source": [
    "Note that in the implementation above, the batch is in the form of a `dict`. But actually, **you can return the `texts` and `labels` directly in `collate_fn` with `return texts, labels`**. The return value format of `collate_fn` is not restricted!\n",
    "\n",
    "However, sometimes you have to return many things from `collate_fn`, so returning a `dict` is more preferable."
   ]
  },
  {
   "cell_type": "markdown",
   "id": "428e880b",
   "metadata": {},
   "source": [
    "### 10.5 Summary: Creating Data Loaders for the Training/Development/Test Datasets."
   ]
  },
  {
   "cell_type": "markdown",
   "id": "647a7920",
   "metadata": {},
   "source": [
    "Now we've gone through the four arguments of `DataLoader`. Let's create a data loader for each dataset.\n",
    "\n",
    "See how the **arguments** are passed to `collate_fn`."
   ]
  },
  {
   "cell_type": "code",
   "execution_count": 59,
   "id": "83b1892f",
   "metadata": {},
   "outputs": [],
   "source": [
    "from torch.utils.data import DataLoader\n",
    "\n",
    "max_len = 25\n",
    "train_bz = 64\n",
    "eval_bz = 64\n",
    "\n",
    "collate_fn = lambda samples: collate_func(\n",
    "    samples=samples,\n",
    "    tokenizer=tokenizer,\n",
    "    vocab=vocab,\n",
    "    max_len=max_len,\n",
    "    class_index_mapping=class_index_mapping,\n",
    ")\n",
    "\n",
    "train_loader = DataLoader(\n",
    "    train_dataset,\n",
    "    batch_size=train_bz,\n",
    "    collate_fn=collate_fn,\n",
    "    shuffle=True\n",
    ")\n",
    "dev_loader = DataLoader(\n",
    "    dev_dataset,\n",
    "    batch_size=eval_bz,\n",
    "    collate_fn=collate_fn\n",
    ")\n",
    "test_loader = DataLoader(\n",
    "    test_dataset,\n",
    "    batch_size=eval_bz,\n",
    "    collate_fn=collate_fn\n",
    ")"
   ]
  },
  {
   "cell_type": "markdown",
   "id": "bc75965c",
   "metadata": {},
   "source": [
    "## 11. Training, Validation, Testing and Prediction"
   ]
  },
  {
   "cell_type": "markdown",
   "id": "55071aa8",
   "metadata": {},
   "source": [
    "### 11.1 Goal of this Section"
   ]
  },
  {
   "cell_type": "markdown",
   "id": "86a0719a",
   "metadata": {},
   "source": [
    "Now everything is ready for training. In this section, we implement the code for training, validation, testing and prediction. Pseudo code:\n",
    "\n",
    "```python\n",
    "best_valid_loss = float(\"inf\")\n",
    "best_model = None\n",
    "for i in range(num_epochs):\n",
    "    train(\n",
    "        model=model,\n",
    "        criterion=criterion,\n",
    "        optimizer=optimizer,\n",
    "        train_loader=train_loader\n",
    "    )\n",
    "\n",
    "    valid_loss = valid(\n",
    "        model=model,\n",
    "        criterion=criterion,\n",
    "        dev_loader=dev_loader\n",
    "    )\n",
    "    # Update the best model.\n",
    "    if valid_loss < best_valid_loss:\n",
    "        best_valid_loss = valid_loss\n",
    "        best_model = copy.deepcopy(model)\n",
    "\n",
    "test(\n",
    "    model=best_model,\n",
    "    test_loader=test_loader,\n",
    "    class_index_mapping=class_index_mapping\n",
    ")\n",
    "\n",
    "predict(\n",
    "    model=best_model,\n",
    "    text=\"Apple Tops in Customer Satisfaction \\\"Dell comes in a close second, while Gateway shows improvement, study says.\\\"\",\n",
    "    tokenizer=tokenizer,\n",
    "    vocab=vocab,\n",
    "    class_index_mapping=class_index_mapping,\n",
    ")\n",
    "```"
   ]
  },
  {
   "cell_type": "markdown",
   "id": "1008e78b",
   "metadata": {},
   "source": [
    "### 11.2 Training"
   ]
  },
  {
   "cell_type": "markdown",
   "id": "6bb93d07",
   "metadata": {},
   "source": [
    "See the code below.\n",
    "\n",
    "+ Notes of **`model.train()`**: According to the [documentation](https://pytorch.org/docs/stable/generated/torch.nn.Module.html?highlight=train#torch.nn.Module.train), it *sets the module in **training mode**. This has any effect **only on certain modules**. See **documentations** of particular modules for details of their behaviors in training/evaluation mode, if they are affected, e.g. Dropout, BatchNorm, etc.* In other words, it **may not** by necessary. However, adding this line of code is a good practice, as it will have effect in certain situations.\n",
    "\n",
    "+ `batch` is what is returned by `collate_fn`.\n",
    "\n",
    "+ `model(texts)` calls the `forward` method of the model. In other words, it is equivalent to calling `model.forward(texts)`.\n",
    "\n",
    "+ The return value of `model(texts)`, i.e., `predictions`, is a list of logits with size (`batch_size`, `class_num`). When you print it, you will find it looks like something below (when the batch size is 8). Each line corresponds to the prediction probabilities of a training example. For example, the first line \\[2.2923e+00, -4.2605e+00,  1.4412e+00, -9.4200e-01\\] is the prediction probabilities of a certain training example. It means: the model thinks there is a 2.2923 probability that the text of the training example belongs to the first class (i.e., `class_index_mapping[0]`) , a -4.2605 probability that the text of the training example belongs to the second class (i.e., `class_index_mapping[1]`), ... . Since there are four classes for text classification in this tutorial, each line has four values, correspinding to the prediction probability of the four classes.\n",
    "\n",
    "```python\n",
    "tensor([[ 2.2923e+00, -4.2605e+00,  1.4412e+00, -9.4200e-01],\n",
    "        [ 1.9423e+00, -3.3877e+00,  2.1381e+00, -2.2040e+00],\n",
    "        [ 5.5345e-01, -2.1561e+00,  3.7267e-02,  9.9266e-01],\n",
    "        [-2.1681e+00,  4.1377e+00, -1.4757e+00, -3.7116e-01],\n",
    "        [ 2.2583e+00, -3.7365e+00,  5.5374e-01,  3.8267e-02],\n",
    "        [ 7.2302e-01, -2.5620e+00,  1.5886e+00, -1.2569e+00],\n",
    "        [-2.3920e+00,  3.1881e+00, -1.3345e+00, -1.8628e-01],\n",
    "        [-9.9738e-01, -1.2172e-01, -1.2999e+00,  2.8284e+00], grad_fn=<AddmmBackward0>)\n",
    "```\n",
    "\n",
    "+ Note that the sizes of `predictions` and `labels` in `loss = criterion(predictions, labels)` are different. `predictions`: (`batch_size`, `class_num`), `labels`: (`batch_size`).\n",
    "\n"
   ]
  },
  {
   "cell_type": "code",
   "execution_count": 60,
   "id": "8972e552",
   "metadata": {},
   "outputs": [],
   "source": [
    "# If gpu (cuda) is available, use gpu for training. Otherwise use cpu.\n",
    "device = torch.device(\n",
    "    \"cuda\"\n",
    "    if torch.cuda.is_available()\n",
    "    else \"cpu\"\n",
    ")\n",
    "\n",
    "def train(model, criterion, optimizer, train_loader):\n",
    "    \"\"\"Train the model.\"\"\"\n",
    "\n",
    "    model.train()\n",
    "\n",
    "    losses = []\n",
    "    for batch in tqdm(train_loader):\n",
    "        texts = batch[\"texts\"].to(device)\n",
    "        labels = batch[\"labels\"].to(device)\n",
    "\n",
    "        predictions = model(texts)\n",
    "\n",
    "        loss = criterion(predictions, labels)\n",
    "        losses.append(loss.item())\n",
    "\n",
    "        optimizer.zero_grad()\n",
    "        loss.backward()\n",
    "        optimizer.step()\n",
    "\n",
    "    train_loss = torch.tensor(losses).mean()\n",
    "    print(f\"Train Loss : {train_loss:.3f}\")"
   ]
  },
  {
   "cell_type": "markdown",
   "id": "0b42272e",
   "metadata": {},
   "source": [
    "### 11.3 Validation"
   ]
  },
  {
   "cell_type": "markdown",
   "id": "dbf2f67d",
   "metadata": {},
   "source": [
    "The code for validation is similar to that for training.\n",
    "\n",
    "+ `torch.no_grad()`: For stopping tracking computations. When `model(texts)` is executed without `torch.no_grad()`, a lot of things are stored to do backpropogation, which requires large cpu/gpu storage. When validating, we don't need them. See more details [here](https://pytorch.org/tutorials/beginner/basics/autogradqs_tutorial.html).\n",
    "\n",
    "+ `predictions.argmax(dim=-1)` is for getting the most likely label id (with the greated probability) for each text in the batch."
   ]
  },
  {
   "cell_type": "code",
   "execution_count": 61,
   "id": "bbaa55bc",
   "metadata": {},
   "outputs": [],
   "source": [
    "def valid(model, criterion, dev_loader):\n",
    "    \"\"\"Validate the model performance.\"\"\"\n",
    "\n",
    "    model.eval()\n",
    "\n",
    "    all_labels = []  # Store all labels in the dev data.\n",
    "    all_predictions = []  # Store all predictions.\n",
    "    losses = []\n",
    "    with torch.no_grad():\n",
    "        for batch in dev_loader:\n",
    "            texts = batch[\"texts\"].to(device)\n",
    "            labels = batch[\"labels\"].to(device)  # labels here: labels in a batch.\n",
    "\n",
    "            predictions = model(texts)  # predictions here: predictions in a batch.\n",
    "\n",
    "            loss = criterion(predictions, labels)\n",
    "            losses.append(loss.item())\n",
    "\n",
    "            all_labels.append(labels)\n",
    "            all_predictions.append(predictions.argmax(dim=-1))\n",
    "\n",
    "    all_labels = torch.cat(all_labels).detach().cpu().numpy()\n",
    "    all_predictions = torch.cat(all_predictions).detach().cpu().numpy()\n",
    "\n",
    "    valid_loss = torch.tensor(losses).mean()\n",
    "    print(f\"Valid Loss : {valid_loss:.3f}\")\n",
    "\n",
    "    valid_acc = accuracy_score(\n",
    "        y_true=all_labels,\n",
    "        y_pred=all_predictions\n",
    "    )\n",
    "    print(f\"Valid Acc  : {valid_acc:.3f}\")\n",
    "\n",
    "    return valid_loss.item()"
   ]
  },
  {
   "cell_type": "markdown",
   "id": "1b643562",
   "metadata": {},
   "source": [
    "### 11.4 Testing"
   ]
  },
  {
   "cell_type": "code",
   "execution_count": 62,
   "id": "5098ccb6",
   "metadata": {},
   "outputs": [],
   "source": [
    "def test(model, test_loader, class_index_mapping):\n",
    "    \"\"\"Test the model\"\"\"\n",
    "\n",
    "    all_labels = []\n",
    "    all_predictions = []\n",
    "    with torch.no_grad():\n",
    "        for batch in test_loader:\n",
    "            texts = batch[\"texts\"].to(device)\n",
    "            labels = batch[\"labels\"].to(device)\n",
    "\n",
    "            predictions = model(texts)\n",
    "\n",
    "            all_labels.append(labels)\n",
    "            all_predictions.append(predictions.argmax(dim=-1))\n",
    "\n",
    "    all_labels = torch.cat(all_labels).detach().cpu().numpy()\n",
    "    all_predictions = torch.cat(all_predictions).detach().cpu().numpy()\n",
    "\n",
    "    test_acc = accuracy_score(\n",
    "        y_true=all_labels,\n",
    "        y_pred=all_predictions\n",
    "    )\n",
    "    print(f\"Test Acc   : {test_acc:.3f}\")\n",
    "\n",
    "    print(\"\\nClassification Report : \")\n",
    "    print(classification_report(all_labels, all_predictions, target_names=class_index_mapping.keys()))\n",
    "\n",
    "    print(\"\\nConfusion Matrix : \")\n",
    "    print(confusion_matrix(all_labels, all_predictions))"
   ]
  },
  {
   "cell_type": "markdown",
   "id": "46c157a0",
   "metadata": {},
   "source": [
    "### 11.5 Prediction"
   ]
  },
  {
   "cell_type": "markdown",
   "id": "df06d6c0",
   "metadata": {},
   "source": [
    "After training/validation/testing, we can use it to predict the news category of the given news.\n",
    "\n",
    "Given a piece of news (text), we first need to tokenize it and convert the tokens to token ids. Then, we should wrap it into a tensor with `torch.tensor`. Note that we put it into a list because the input dimension required by the model is (`batch_size`, text_len). If we put it into a list, the resulting tensor will be of (1, text_len), where the 1 here is the batch size. But if not, the resulting tensor will have a dimension of (text_len).\n",
    "\n",
    "After processing the given text, we feed it to the model and get the `predictions`. Note that `predictions` is of (`batch_size`, `class_num`), as mentioned earlier. Here the batch size is 1, so it is of (1, `class_num`).\n",
    "\n",
    "We then obtain the most likely label id `prediction_index` with `argmax`. After that, we convert the label id to the original textual class `prediction_class` with the reversed version of `class_index_mapping`."
   ]
  },
  {
   "cell_type": "code",
   "execution_count": 63,
   "id": "5ee37d25",
   "metadata": {},
   "outputs": [],
   "source": [
    "def predict(model, text, tokenizer, vocab, class_index_mapping):\n",
    "    \"\"\"Predict the label of the given text.\"\"\"\n",
    "\n",
    "    tokens = tokenizer(text)\n",
    "    token_ids = vocab(tokens)\n",
    "    texts = torch.tensor([token_ids])\n",
    "    with torch.no_grad():\n",
    "        predictions = model(texts)\n",
    "\n",
    "    prediction_index = predictions[0].argmax(dim=0).item()\n",
    "    prediction_class = {\n",
    "        index: class_\n",
    "        for class_, index in class_index_mapping.items()\n",
    "    }[prediction_index]\n",
    "\n",
    "    print(f\"\\ntext: {text}\")\n",
    "    print(f\"prediction: {prediction_class}\")"
   ]
  },
  {
   "cell_type": "markdown",
   "id": "acf037c6",
   "metadata": {},
   "source": [
    "## 12. Complete Implementation"
   ]
  },
  {
   "cell_type": "markdown",
   "id": "7ad32e44",
   "metadata": {},
   "source": [
    "Now let's put all code together and run it!"
   ]
  },
  {
   "cell_type": "code",
   "execution_count": 69,
   "id": "0a497804",
   "metadata": {},
   "outputs": [
    {
     "name": "stdout",
     "output_type": "stream",
     "text": [
      "Epoch 1\n"
     ]
    },
    {
     "name": "stderr",
     "output_type": "stream",
     "text": [
      "100%|██████████████████████████████████████████████████████████████████████████████| 1782/1782 [00:29<00:00, 60.99it/s]\n"
     ]
    },
    {
     "name": "stdout",
     "output_type": "stream",
     "text": [
      "Train Loss : 0.909\n",
      "Valid Loss : 0.597\n",
      "Valid Acc  : 0.786\n",
      "Epoch 2\n"
     ]
    },
    {
     "name": "stderr",
     "output_type": "stream",
     "text": [
      "100%|██████████████████████████████████████████████████████████████████████████████| 1782/1782 [00:33<00:00, 53.08it/s]\n"
     ]
    },
    {
     "name": "stdout",
     "output_type": "stream",
     "text": [
      "Train Loss : 0.483\n",
      "Valid Loss : 0.442\n",
      "Valid Acc  : 0.853\n",
      "Epoch 3\n"
     ]
    },
    {
     "name": "stderr",
     "output_type": "stream",
     "text": [
      "100%|██████████████████████████████████████████████████████████████████████████████| 1782/1782 [00:29<00:00, 59.96it/s]\n"
     ]
    },
    {
     "name": "stdout",
     "output_type": "stream",
     "text": [
      "Train Loss : 0.379\n",
      "Valid Loss : 0.425\n",
      "Valid Acc  : 0.863\n",
      "Epoch 4\n"
     ]
    },
    {
     "name": "stderr",
     "output_type": "stream",
     "text": [
      "100%|██████████████████████████████████████████████████████████████████████████████| 1782/1782 [00:34<00:00, 51.92it/s]\n"
     ]
    },
    {
     "name": "stdout",
     "output_type": "stream",
     "text": [
      "Train Loss : 0.325\n",
      "Valid Loss : 0.391\n",
      "Valid Acc  : 0.877\n",
      "Epoch 5\n"
     ]
    },
    {
     "name": "stderr",
     "output_type": "stream",
     "text": [
      "100%|██████████████████████████████████████████████████████████████████████████████| 1782/1782 [00:29<00:00, 60.45it/s]\n"
     ]
    },
    {
     "name": "stdout",
     "output_type": "stream",
     "text": [
      "Train Loss : 0.286\n",
      "Valid Loss : 0.399\n",
      "Valid Acc  : 0.875\n",
      "Epoch 6\n"
     ]
    },
    {
     "name": "stderr",
     "output_type": "stream",
     "text": [
      "100%|██████████████████████████████████████████████████████████████████████████████| 1782/1782 [00:30<00:00, 57.93it/s]\n"
     ]
    },
    {
     "name": "stdout",
     "output_type": "stream",
     "text": [
      "Train Loss : 0.256\n",
      "Valid Loss : 0.383\n",
      "Valid Acc  : 0.883\n",
      "Epoch 7\n"
     ]
    },
    {
     "name": "stderr",
     "output_type": "stream",
     "text": [
      "100%|██████████████████████████████████████████████████████████████████████████████| 1782/1782 [00:28<00:00, 63.60it/s]\n"
     ]
    },
    {
     "name": "stdout",
     "output_type": "stream",
     "text": [
      "Train Loss : 0.232\n",
      "Valid Loss : 0.395\n",
      "Valid Acc  : 0.883\n",
      "Epoch 8\n"
     ]
    },
    {
     "name": "stderr",
     "output_type": "stream",
     "text": [
      "100%|██████████████████████████████████████████████████████████████████████████████| 1782/1782 [00:30<00:00, 59.01it/s]\n"
     ]
    },
    {
     "name": "stdout",
     "output_type": "stream",
     "text": [
      "Train Loss : 0.211\n",
      "Valid Loss : 0.387\n",
      "Valid Acc  : 0.878\n",
      "Epoch 9\n"
     ]
    },
    {
     "name": "stderr",
     "output_type": "stream",
     "text": [
      "100%|██████████████████████████████████████████████████████████████████████████████| 1782/1782 [00:29<00:00, 60.41it/s]\n"
     ]
    },
    {
     "name": "stdout",
     "output_type": "stream",
     "text": [
      "Train Loss : 0.192\n",
      "Valid Loss : 0.399\n",
      "Valid Acc  : 0.882\n",
      "Epoch 10\n"
     ]
    },
    {
     "name": "stderr",
     "output_type": "stream",
     "text": [
      "100%|██████████████████████████████████████████████████████████████████████████████| 1782/1782 [00:30<00:00, 58.24it/s]\n"
     ]
    },
    {
     "name": "stdout",
     "output_type": "stream",
     "text": [
      "Train Loss : 0.174\n",
      "Valid Loss : 0.428\n",
      "Valid Acc  : 0.884\n",
      "Test Acc   : 0.883\n",
      "\n",
      "Classification Report : \n",
      "              precision    recall  f1-score   support\n",
      "\n",
      "       World       0.89      0.90      0.89      1900\n",
      "      Sports       0.94      0.95      0.94      1900\n",
      "    Sci/Tech       0.89      0.83      0.86      1900\n",
      "    Business       0.82      0.86      0.84      1900\n",
      "\n",
      "    accuracy                           0.88      7600\n",
      "   macro avg       0.88      0.88      0.88      7600\n",
      "weighted avg       0.88      0.88      0.88      7600\n",
      "\n",
      "\n",
      "Confusion Matrix : \n",
      "[[1709   62   38   91]\n",
      " [  50 1803   16   31]\n",
      " [  71   30 1570  229]\n",
      " [  93   31  148 1628]]\n",
      "\n",
      "text: Apple Tops in Customer Satisfaction \"Dell comes in a close second, while Gateway shows improvement, study says.\"\n",
      "prediction: Sci/Tech\n"
     ]
    }
   ],
   "source": [
    "import copy\n",
    "import csv\n",
    "import torch\n",
    "import torchtext.vocab\n",
    "from collections import Counter\n",
    "from sklearn.metrics import accuracy_score, classification_report, confusion_matrix\n",
    "from torch import nn\n",
    "from torch.optim import Adam\n",
    "from torch.nn import functional as F\n",
    "from torch.utils.data import Dataset, DataLoader\n",
    "from typing import Dict, Callable, Tuple, List\n",
    "from torchtext.data import get_tokenizer\n",
    "from torchtext.vocab import vocab as vc\n",
    "from tqdm import tqdm\n",
    "\n",
    "\n",
    "def collate_func(\n",
    "        samples: List[Tuple[str, str]],\n",
    "        vocab: torchtext.vocab.Vocab, tokenizer: Callable, max_len: int,\n",
    "        class_index_mapping: Dict[str, int]\n",
    ") -> Dict[str, torch.tensor]:\n",
    "    \"\"\"Collate function for training / validation / testing.\n",
    "\n",
    "    :param samples: A list of (text, label).\n",
    "    :param vocab: Vocabulary.\n",
    "    :param tokenizer: Tokenizer.\n",
    "    :param max_len: Max len of the sentences.\n",
    "    :param class_index_mapping: Mapping from label string to label index.\n",
    "    :return: Collated batch.\n",
    "    \"\"\"\n",
    "\n",
    "    texts, labels = list(zip(*samples))\n",
    "\n",
    "    texts = torch.tensor(list(map(\n",
    "        lambda text: pad(\n",
    "            vocab(tokenizer(text)),\n",
    "            max_len=max_len\n",
    "        ),\n",
    "        texts\n",
    "    )))\n",
    "\n",
    "    labels = torch.tensor(list(map(\n",
    "        lambda label: class_index_mapping[label],\n",
    "        labels\n",
    "    )))\n",
    "\n",
    "    return {\n",
    "        \"texts\": texts,\n",
    "        \"labels\": labels,\n",
    "    }\n",
    "\n",
    "\n",
    "class AGNewsDataset(Dataset):\n",
    "    \"\"\"Dataset for AG News.\n",
    "\n",
    "    :param fp: File path of the data.\n",
    "    \"\"\"\n",
    "\n",
    "    def __init__(self, fp: str):\n",
    "        self.texts, self.labels = self.read(fp)\n",
    "\n",
    "    def __len__(self) -> int:\n",
    "        return len(self.labels)\n",
    "\n",
    "    def __getitem__(self, idx: int) -> Tuple[str, str]:\n",
    "        text = self.texts[idx]\n",
    "        label = self.labels[idx]\n",
    "\n",
    "        return text, label\n",
    "\n",
    "    @classmethod\n",
    "    def read(cls, fp: str) -> Tuple[List[str], List[str]]:\n",
    "        \"\"\"Obtain texts and labels from the data file.\n",
    "\n",
    "        :param fp: File path of the data.\n",
    "        :return: texts and labels.\n",
    "        \"\"\"\n",
    "\n",
    "        texts = []\n",
    "        labels = []\n",
    "        with open(fp, encoding=\"utf-8\") as f:\n",
    "            csv_reader = csv.reader(f)\n",
    "            for line in csv_reader:\n",
    "                label, title, body = line\n",
    "\n",
    "                # Concatenate the title and the body as text.\n",
    "                texts.append(f\"{title} {body}\")\n",
    "                labels.append(label)\n",
    "\n",
    "        return texts, labels\n",
    "\n",
    "\n",
    "class RNNTextClassifier(nn.Module):\n",
    "    \"\"\"A text classifier based on RNN.\n",
    "\n",
    "    :param vocab_len: Length of the vocab.\n",
    "    :param class_num: Number of labels.\n",
    "    :param embed_dim: Embedding dimension.\n",
    "    :param hidden_dim: Dimension of the RNN hidden layers.\n",
    "    \"\"\"\n",
    "\n",
    "    def __init__(self, vocab_len: int, class_num: int, embed_dim: int, hidden_dim: int):\n",
    "        super(RNNTextClassifier, self).__init__()\n",
    "\n",
    "        self.embed_dim = embed_dim\n",
    "        self.hidden_dim = hidden_dim\n",
    "\n",
    "        self.embedding = nn.Embedding(\n",
    "            num_embeddings=vocab_len,\n",
    "            embedding_dim=self.embed_dim\n",
    "        )\n",
    "        self.rnn = nn.RNN(\n",
    "            input_size=self.embed_dim,\n",
    "            hidden_size=self.hidden_dim,\n",
    "            batch_first=True\n",
    "        )\n",
    "        self.linear = nn.Linear(\n",
    "            in_features=self.hidden_dim,\n",
    "            out_features=class_num\n",
    "        )\n",
    "\n",
    "    def forward(self, x: torch.tensor) -> torch.tensor:\n",
    "        embeddings = self.embedding(x)\n",
    "\n",
    "        _, last_hidden = self.rnn(embeddings)\n",
    "        last_hidden = last_hidden.squeeze(dim=0)\n",
    "\n",
    "        y = self.linear(last_hidden)\n",
    "\n",
    "        return y\n",
    "\n",
    "\n",
    "def make_class_index_mapping(labels: List[str]) -> Dict[str, int]:\n",
    "    \"\"\"Make a mapping that maps the classes to integer indices.\n",
    "\n",
    "    :param labels: Label strings.\n",
    "    :return: Label indices.\n",
    "    \"\"\"\n",
    "\n",
    "    classes = list(set(labels))\n",
    "    class_index_mapping = {\n",
    "        class_: idx\n",
    "        for idx, class_ in enumerate(classes)\n",
    "    }\n",
    "\n",
    "    return class_index_mapping\n",
    "\n",
    "\n",
    "def make_vocab(\n",
    "        texts: List[str], tokenizer: Callable,\n",
    "        min_freq: int = 1, unk_token: str = \"<unk>\", unk_idx: int = 0,\n",
    ") -> torchtext.vocab.Vocab:\n",
    "    \"\"\"Make a vocabulary from the specified texts.\n",
    "\n",
    "    :param texts: Texts for making vocab.\n",
    "    :param tokenizer: Tokenizer for tokenizing texts.\n",
    "    :param min_freq: Min frequency of the words to be added to the vocab.\n",
    "    :param unk_token: Unknown token.\n",
    "    :param unk_idx: Unknown token index.\n",
    "    :return: Constructed vocab.\n",
    "    \"\"\"\n",
    "\n",
    "    def make_token_count_mapping() -> Dict[str, int]:\n",
    "        \"\"\"Make a mapping {token: count}\"\"\"\n",
    "\n",
    "        all_tokens = [\n",
    "            token\n",
    "            for text in texts\n",
    "            for token in tokenizer(text)\n",
    "        ]\n",
    "\n",
    "        counter = Counter(all_tokens)\n",
    "\n",
    "        return counter\n",
    "\n",
    "    vocab = vc(\n",
    "        ordered_dict=make_token_count_mapping(),\n",
    "        min_freq=min_freq,\n",
    "    )\n",
    "    vocab.insert_token(\n",
    "        token=unk_token,\n",
    "        index=unk_idx\n",
    "    )\n",
    "    vocab.set_default_index(index=unk_idx)\n",
    "\n",
    "    return vocab\n",
    "\n",
    "\n",
    "def pad(token_indices: List[int], max_len: int, default_pad_val: int = 0) -> List[int]:\n",
    "    \"\"\"Pad the given token indices.\n",
    "\n",
    "    :param token_indices: Indices of the tokens.\n",
    "    :param max_len: Max sentence length.\n",
    "    :param default_pad_val: Default padding value.\n",
    "    :return: Padded indices.\n",
    "    \"\"\"\n",
    "\n",
    "    if len(token_indices) < max_len:\n",
    "        return token_indices + ([default_pad_val] * (max_len - len(token_indices)))\n",
    "    else:\n",
    "        return token_indices[:max_len]\n",
    "\n",
    "\n",
    "def train(model, criterion, optimizer, train_loader):\n",
    "    \"\"\"Train the model.\"\"\"\n",
    "\n",
    "    model.train()\n",
    "\n",
    "    losses = []\n",
    "    for batch in tqdm(train_loader):\n",
    "        texts = batch[\"texts\"].to(device)\n",
    "        labels = batch[\"labels\"].to(device)\n",
    "\n",
    "        predictions = model(texts)\n",
    "\n",
    "        loss = criterion(predictions, labels)\n",
    "        losses.append(loss.item())\n",
    "\n",
    "        optimizer.zero_grad()\n",
    "        loss.backward()\n",
    "        optimizer.step()\n",
    "\n",
    "    train_loss = torch.tensor(losses).mean()\n",
    "    print(f\"Train Loss : {train_loss:.3f}\")\n",
    "\n",
    "\n",
    "def valid(model, criterion, dev_loader):\n",
    "    \"\"\"Validate the model performance.\"\"\"\n",
    "\n",
    "    model.eval()\n",
    "\n",
    "    all_labels = []  # Store all labels in the dev data.\n",
    "    all_predictions = []  # Store all predictions.\n",
    "    losses = []\n",
    "    with torch.no_grad():\n",
    "        for batch in dev_loader:\n",
    "            texts = batch[\"texts\"].to(device)\n",
    "            labels = batch[\"labels\"].to(device)  # labels here: labels in a batch.\n",
    "\n",
    "            predictions = model(texts)  # predictions here: predictions in a batch.\n",
    "\n",
    "            loss = criterion(predictions, labels)\n",
    "            losses.append(loss.item())\n",
    "\n",
    "            all_labels.append(labels)\n",
    "            all_predictions.append(predictions.argmax(dim=-1))\n",
    "\n",
    "    all_labels = torch.cat(all_labels).detach().cpu().numpy()\n",
    "    all_predictions = torch.cat(all_predictions).detach().cpu().numpy()\n",
    "\n",
    "    valid_loss = torch.tensor(losses).mean()\n",
    "    print(f\"Valid Loss : {valid_loss:.3f}\")\n",
    "\n",
    "    valid_acc = accuracy_score(\n",
    "        y_true=all_labels,\n",
    "        y_pred=all_predictions\n",
    "    )\n",
    "    print(f\"Valid Acc  : {valid_acc:.3f}\")\n",
    "\n",
    "    return valid_loss.item()\n",
    "\n",
    "\n",
    "def test(model, test_loader, class_index_mapping):\n",
    "    \"\"\"Test the model\"\"\"\n",
    "\n",
    "    all_labels = []\n",
    "    all_predictions = []\n",
    "    with torch.no_grad():\n",
    "        for batch in test_loader:\n",
    "            texts = batch[\"texts\"].to(device)\n",
    "            labels = batch[\"labels\"].to(device)\n",
    "\n",
    "            predictions = model(texts)\n",
    "\n",
    "            all_labels.append(labels)\n",
    "            all_predictions.append(predictions.argmax(dim=-1))\n",
    "\n",
    "    all_labels = torch.cat(all_labels).detach().cpu().numpy()\n",
    "    all_predictions = torch.cat(all_predictions).detach().cpu().numpy()\n",
    "\n",
    "    test_acc = accuracy_score(\n",
    "        y_true=all_labels,\n",
    "        y_pred=all_predictions\n",
    "    )\n",
    "    print(f\"Test Acc   : {test_acc:.3f}\")\n",
    "\n",
    "    print(\"\\nClassification Report : \")\n",
    "    print(classification_report(all_labels, all_predictions, target_names=class_index_mapping.keys()))\n",
    "\n",
    "    print(\"\\nConfusion Matrix : \")\n",
    "    print(confusion_matrix(all_labels, all_predictions))\n",
    "\n",
    "\n",
    "def predict(model, text, tokenizer, vocab, class_index_mapping):\n",
    "    \"\"\"Predict the label of the given text.\"\"\"\n",
    "\n",
    "    tokens = tokenizer(text)\n",
    "    token_ids = vocab(tokens)\n",
    "    texts = torch.tensor([token_ids])\n",
    "    with torch.no_grad():\n",
    "        predictions = model(texts)\n",
    "\n",
    "    prediction_index = predictions[0].argmax(dim=0).item()\n",
    "    prediction_class = {\n",
    "        index: class_\n",
    "        for class_, index in class_index_mapping.items()\n",
    "    }[prediction_index]\n",
    "\n",
    "    print(f\"\\ntext: {text}\")\n",
    "    print(f\"prediction: {prediction_class}\")\n",
    "\n",
    "\n",
    "def main():\n",
    "    train_dataset = AGNewsDataset(fp=\"../train.csv\")\n",
    "    dev_dataset = AGNewsDataset(fp=\"../dev.csv\")\n",
    "    test_dataset = AGNewsDataset(fp=\"../test.csv\")\n",
    "\n",
    "    tokenizer = get_tokenizer('basic_english')\n",
    "    # tokenizer = get_tokenizer(word_tokenize)\n",
    "    vocab = make_vocab(\n",
    "        texts=train_dataset.texts,\n",
    "        tokenizer=tokenizer,\n",
    "        min_freq=min_freq,\n",
    "    )\n",
    "    class_index_mapping = make_class_index_mapping(labels=train_dataset.labels)\n",
    "\n",
    "    model = RNNTextClassifier(\n",
    "        vocab_len=len(vocab),\n",
    "        class_num=len(class_index_mapping),\n",
    "        embed_dim=embed_dim,\n",
    "        hidden_dim=hidden_dim,\n",
    "    )\n",
    "    model.to(device=device)\n",
    "\n",
    "    criterion = nn.CrossEntropyLoss()\n",
    "    optimizer = Adam(\n",
    "        params=model.parameters(),\n",
    "        lr=lr,\n",
    "    )\n",
    "\n",
    "    collate_fn = lambda samples: collate_func(\n",
    "        samples=samples,\n",
    "        tokenizer=tokenizer,\n",
    "        vocab=vocab,\n",
    "        max_len=max_len,\n",
    "        class_index_mapping=class_index_mapping,\n",
    "    )\n",
    "    train_loader = DataLoader(\n",
    "        train_dataset,\n",
    "        batch_size=train_bz,\n",
    "        collate_fn=collate_fn,\n",
    "        shuffle=True\n",
    "    )\n",
    "    dev_loader = DataLoader(\n",
    "        dev_dataset,\n",
    "        batch_size=eval_bz,\n",
    "        collate_fn=collate_fn\n",
    "    )\n",
    "    test_loader = DataLoader(\n",
    "        test_dataset,\n",
    "        batch_size=eval_bz,\n",
    "        collate_fn=collate_fn\n",
    "    )\n",
    "\n",
    "    best_valid_loss = float(\"inf\")\n",
    "    best_model = None\n",
    "    for i in range(num_epochs):\n",
    "        print(f\"Epoch {i + 1}\")\n",
    "\n",
    "        train(\n",
    "            model=model,\n",
    "            criterion=criterion,\n",
    "            optimizer=optimizer,\n",
    "            train_loader=train_loader\n",
    "        )\n",
    "\n",
    "        valid_loss = valid(\n",
    "            model=model,\n",
    "            criterion=criterion,\n",
    "            dev_loader=dev_loader\n",
    "        )\n",
    "        # Update the best model.\n",
    "        if valid_loss < best_valid_loss:\n",
    "            best_valid_loss = valid_loss\n",
    "            best_model = copy.deepcopy(model)\n",
    "\n",
    "    test(\n",
    "        model=best_model,\n",
    "        test_loader=test_loader,\n",
    "        class_index_mapping=class_index_mapping\n",
    "    )\n",
    "\n",
    "    predict(\n",
    "        model=best_model,\n",
    "        text=\"Apple Tops in Customer Satisfaction \\\"Dell comes in a close second, while Gateway shows improvement, study says.\\\"\",\n",
    "        tokenizer=tokenizer,\n",
    "        vocab=vocab,\n",
    "        class_index_mapping=class_index_mapping,\n",
    "    )\n",
    "\n",
    "\n",
    "if __name__ == '__main__':\n",
    "    # Data arguments.\n",
    "    min_freq = 10  # Min frequency of the word added to the vocab.\n",
    "    max_len = 25  # Max sentence len.\n",
    "    # Model arguments.\n",
    "    embed_dim = 50  # Embedding dimension.\n",
    "    hidden_dim = 50  # Hidden dimension of the RNN.\n",
    "    # Training arguments.\n",
    "    num_epochs = 10  # Number of training epochs.\n",
    "    lr = 1e-3  # Learning rate.\n",
    "    train_bz = 64  # Training batch size.\n",
    "    eval_bz = 64  # Validation/testing batch size.\n",
    "    \n",
    "    device = torch.device(\n",
    "        \"cuda\"\n",
    "        if torch.cuda.is_available()\n",
    "        else \"cpu\"\n",
    "    )\n",
    "\n",
    "    main()"
   ]
  },
  {
   "cell_type": "markdown",
   "id": "de6039cd-95b9-4d17-8f90-3c6d0aaab4b7",
   "metadata": {},
   "source": [
    "## 13. What Next"
   ]
  },
  {
   "cell_type": "markdown",
   "id": "f86250c4-375a-4f27-919b-2c0f036b0959",
   "metadata": {},
   "source": [
    "Now you are already able to build deep learning models with PyTorch. There are more to explore:\n",
    "1. **Fairseq**: a PyTorch-based sequence modeling toolkit that allows researchers and developers to train custom models for translation, summarization, language modeling and other text generation tasks. [Github](https://github.com/facebookresearch/fairseq) [Documentation](https://fairseq.readthedocs.io/en/latest/)\n",
    "2. **Huggingface**: provides thousands of pretrained models (such as BERT) to perform tasks on different modalities such as text, vision, and audio. **You can use BERT models from Huggingface.** [Website](https://huggingface.co/) [Github](https://github.com/huggingface/transformers)"
   ]
  }
 ],
 "metadata": {
  "kernelspec": {
   "display_name": "Python 3",
   "language": "python",
   "name": "python3"
  },
  "language_info": {
   "codemirror_mode": {
    "name": "ipython",
    "version": 3
   },
   "file_extension": ".py",
   "mimetype": "text/x-python",
   "name": "python",
   "nbconvert_exporter": "python",
   "pygments_lexer": "ipython3",
   "version": "3.9.7"
  },
  "toc-autonumbering": false,
  "toc-showmarkdowntxt": false
 },
 "nbformat": 4,
 "nbformat_minor": 5
}
